{
 "cells": [
  {
   "cell_type": "code",
   "execution_count": 1,
   "metadata": {},
   "outputs": [],
   "source": [
    "from typing import Optional, Literal\n",
    "from repsheet_backend.common import MEMBER_VOTES_TABLE, BILLS_TABLE, VOTES_HELD_TABLE, db_connect\n",
    "from repsheet_backend.bills import BillId, BillIssues, BillSummary\n",
    "from pydantic import BaseModel"
   ]
  },
  {
   "cell_type": "code",
   "execution_count": null,
   "metadata": {},
   "outputs": [],
   "source": [
    "with open(\"prompts/summarize-member/001.txt\", \"r\") as f:\n",
    "    prompt_template = f.read()\n",
    "\n",
    "class BillVotingRecord(BaseModel):\n",
    "    summary: str\n",
    "    billID: str\n",
    "    billNumber: str\n",
    "    voted: Literal[\"yea\", \"nay\", \"abstain\"]\n",
    "    issues: BillIssues\n",
    "\n",
    "\n",
    "MEMBER_BILL_VOTING_QUERY = f\"\"\"\n",
    "SELECT \n",
    "    b.[Bill ID] AS bill_id,\n",
    "    b.[Bill Number] AS bill_number,\n",
    "    b.[Summary] AS full_summary,\n",
    "    mv.[Member Voted] AS voted\n",
    "FROM {MEMBER_VOTES_TABLE} AS mv\n",
    "JOIN {VOTES_HELD_TABLE} v\n",
    "    ON mv.[Vote ID] = v.[Vote ID]\n",
    "JOIN {BILLS_TABLE} AS b\n",
    "    ON v.[Bill ID] = b.[Bill ID]\n",
    "WHERE\n",
    "    mv.[Member ID] = :member_id\n",
    "\"\"\"\n",
    "\n",
    "def get_member_voting_record(member_id: str) -> list[BillVotingRecord]:\n",
    "    with db_connect() as db:\n",
    "        rows = db.execute(MEMBER_BILL_VOTING_QUERY, {\"member_id\": member_id}).fetchall()\n",
    "\n",
    "    voting_record: list[BillVotingRecord] = []\n",
    "    for row in rows:\n",
    "        full_summary = BillSummary.model_validate_json(row[\"full_summary\"])\n",
    "        voted = row[\"voted\"].lower() if row[\"voted\"] else \"abstain\" \n",
    "        voting_record.append(\n",
    "            BillVotingRecord(\n",
    "                summary=full_summary.summary,\n",
    "                billID=row[\"bill_id\"],\n",
    "                billNumber=row[\"bill_number\"],\n",
    "                voted=voted,\n",
    "                issues=full_summary.issues,\n",
    "            )\n",
    "        )\n",
    "    return voting_record\n",
    "\n",
    "\n",
    "\n",
    "def get_member_summarisation_prompt(member_id: str) -> str:\n",
    "     = get_member_voting_record(bill)\n",
    "    if xml_path is None:\n",
    "        return None\n",
    "    with open(xml_path, \"r\") as f:\n",
    "        xml_text = f.read()\n",
    "    return prompt_template.replace(\"{{RAW_INPUT_DATA}}\", xml_text)"
   ]
  }
 ],
 "metadata": {
  "kernelspec": {
   "display_name": "repsheet",
   "language": "python",
   "name": "python3"
  },
  "language_info": {
   "codemirror_mode": {
    "name": "ipython",
    "version": 3
   },
   "file_extension": ".py",
   "mimetype": "text/x-python",
   "name": "python",
   "nbconvert_exporter": "python",
   "pygments_lexer": "ipython3",
   "version": "3.13.2"
  }
 },
 "nbformat": 4,
 "nbformat_minor": 2
}
