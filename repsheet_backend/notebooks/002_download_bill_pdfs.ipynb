{
 "cells": [
  {
   "cell_type": "code",
   "execution_count": 1,
   "id": "25eaf20b",
   "metadata": {},
   "outputs": [],
   "source": [
    "from repsheet_backend.common import DATA_DIR, db_connect"
   ]
  }
 ],
 "metadata": {
  "kernelspec": {
   "display_name": "repsheet",
   "language": "python",
   "name": "python3"
  },
  "language_info": {
   "codemirror_mode": {
    "name": "ipython",
    "version": 3
   },
   "file_extension": ".py",
   "mimetype": "text/x-python",
   "name": "python",
   "nbconvert_exporter": "python",
   "pygments_lexer": "ipython3",
   "version": "3.12.9"
  }
 },
 "nbformat": 4,
 "nbformat_minor": 5
}
