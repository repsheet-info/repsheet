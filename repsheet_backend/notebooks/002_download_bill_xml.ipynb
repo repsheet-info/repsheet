{
 "cells": [
  {
   "cell_type": "code",
   "execution_count": 2,
   "id": "25eaf20b",
   "metadata": {},
   "outputs": [],
   "source": [
    "from repsheet_backend.common import db_connect, MEMBER_VOTES_TABLE, VOTES_HELD_TABLE\n",
    "from repsheet_backend.bills import download_all_bill_texts, BillId\n",
    "from multiprocessing.pool import ThreadPool"
   ]
  },
  {
   "cell_type": "markdown",
   "id": "41c546a5",
   "metadata": {},
   "source": [
    "## Enumerate every bill voted on by a current member"
   ]
  },
  {
   "cell_type": "code",
   "execution_count": 3,
   "id": "03d22f90",
   "metadata": {},
   "outputs": [],
   "source": [
    "with db_connect() as db:\n",
    "    bills = db.execute(\n",
    "        \"SELECT DISTINCT v.[Parliament], v.[Session], v.[Bill Number] \"\n",
    "        f\"FROM {MEMBER_VOTES_TABLE} mv \"\n",
    "        f\"LEFT JOIN {VOTES_HELD_TABLE} v ON v.[Vote ID] = mv.[Vote ID] \"\n",
    "        \"WHERE [Bill Number] IS NOT NULL \"\n",
    "        \"ORDER BY v.[Parliament] DESC \"\n",
    "    ).fetchall()\n",
    "\n",
    "    bills = [BillId(*row) for row in bills]\n",
    "    with ThreadPool(8) as pool:\n",
    "        results = pool.starmap(download_all_bill_texts, bills)"
   ]
  },
  {
   "cell_type": "markdown",
   "id": "9232d61d",
   "metadata": {},
   "source": [
    "Note that we are missing a bunch of bills from past parliaments as they have been split into multiple pages, with one XML file per page."
   ]
  },
  {
   "cell_type": "code",
   "execution_count": 4,
   "id": "8deef8c5",
   "metadata": {},
   "outputs": [
    {
     "data": {
      "text/plain": [
       "(0, 576)"
      ]
     },
     "execution_count": 4,
     "metadata": {},
     "output_type": "execute_result"
    }
   ],
   "source": [
    "# Check if we have all bill texts for the latest session of parliament\n",
    "missing, found = 0, 0\n",
    "for bill, is_bound in zip(bills, results):\n",
    "    parliament, session, bill_number = bill\n",
    "    if not is_bound:\n",
    "        print(f\"Bill text not found for {bill}\")\n",
    "        missing += 1\n",
    "    else:\n",
    "        found += 1\n",
    "missing, found"
   ]
  }
 ],
 "metadata": {
  "kernelspec": {
   "display_name": "repsheet",
   "language": "python",
   "name": "python3"
  },
  "language_info": {
   "codemirror_mode": {
    "name": "ipython",
    "version": 3
   },
   "file_extension": ".py",
   "mimetype": "text/x-python",
   "name": "python",
   "nbconvert_exporter": "python",
   "pygments_lexer": "ipython3",
   "version": "3.12.9"
  }
 },
 "nbformat": 4,
 "nbformat_minor": 5
}
