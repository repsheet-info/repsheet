{
 "cells": [
  {
   "cell_type": "code",
   "execution_count": 9,
   "metadata": {},
   "outputs": [],
   "source": [
    "from typing import Optional, Literal\n",
    "from repsheet_backend.common import MEMBER_VOTES_TABLE, BILLS_TABLE, VOTES_HELD_TABLE, MEMBERS_TABLE, db_connect, JUSTIN, PIERRE\n",
    "from repsheet_backend.bills import BillId, BillIssues, BillSummary\n",
    "from repsheet_backend.genai import generate_text, GEMINI_PRO_2_5, GEMINI_FLASH_2, SONNET\n",
    "from pydantic import BaseModel\n",
    "import json\n",
    "import asyncio\n",
    "import re"
   ]
  },
  {
   "cell_type": "code",
   "execution_count": 12,
   "metadata": {},
   "outputs": [],
   "source": [
    "with open(\"prompts/summarize-member/001.txt\", \"r\") as f:\n",
    "    prompt_template = f.read()\n",
    "\n",
    "class BillVotingRecord(BaseModel):\n",
    "    summary: str\n",
    "    billID: str\n",
    "    billNumber: str\n",
    "    voted: Literal[\"yea\", \"nay\", \"abstain\"]\n",
    "    issues: BillIssues\n",
    "\n",
    "\n",
    "class MemberSummary(BaseModel):\n",
    "    summary: str\n",
    "    issues: BillIssues\n",
    "\n",
    "\n",
    "MEMBER_BILL_VOTING_QUERY = f\"\"\"\n",
    "SELECT \n",
    "    b.[Bill ID] AS bill_id,\n",
    "    b.[Bill Number] AS bill_number,\n",
    "    b.[Summary] AS full_summary,\n",
    "    mv.[Member Voted] AS voted\n",
    "FROM {MEMBER_VOTES_TABLE} AS mv\n",
    "JOIN {VOTES_HELD_TABLE} v\n",
    "    ON mv.[Vote ID] = v.[Vote ID]\n",
    "JOIN {BILLS_TABLE} AS b\n",
    "    ON v.[Bill ID] = b.[Bill ID]\n",
    "WHERE\n",
    "    mv.[Member ID] = :member_id\n",
    "AND\n",
    "    b.[Summary] IS NOT NULL\n",
    "\"\"\"\n",
    "\n",
    "def get_member_voting_record(member_id: str) -> list[BillVotingRecord]:\n",
    "    with db_connect() as db:\n",
    "        rows = db.execute(MEMBER_BILL_VOTING_QUERY, {\"member_id\": member_id}).fetchall()\n",
    "\n",
    "    voting_record: list[BillVotingRecord] = []\n",
    "    for row in rows:\n",
    "        full_summary = BillSummary.model_validate_json(row[\"full_summary\"])\n",
    "        voted = row[\"voted\"].lower() if row[\"voted\"] else \"abstain\" \n",
    "        voting_record.append(\n",
    "            BillVotingRecord(\n",
    "                summary=full_summary.summary,\n",
    "                billID=row[\"bill_id\"],\n",
    "                billNumber=row[\"bill_number\"],\n",
    "                voted=voted,\n",
    "                issues=full_summary.issues,\n",
    "            )\n",
    "        )\n",
    "    return voting_record\n",
    "\n",
    "\n",
    "def get_member_summarisation_prompt(member_id: str) -> str:\n",
    "    voting_record = get_member_voting_record(member_id)\n",
    "    voting_record = [vote.model_dump(mode=\"json\", exclude_none=True) for vote in voting_record]\n",
    "    voting_record = json.dumps(voting_record, indent=2)\n",
    "    return prompt_template.replace(\"{{RAW_INPUT_DATA}}\", voting_record)\n",
    "\n",
    "value_meant_to_be_part_of_previous_key_regex = re.compile(r'\",\\s*\"([^\"]+)\"\\s*}')\n",
    "\n",
    "def fix_crappy_json(json_str: str) -> str:\n",
    "    json_str = value_meant_to_be_part_of_previous_key_regex.sub(r' \\1\"}', json_str)\n",
    "    json_str = json_str.replace(\"\\\\\\n\", \"\\\\n\")\n",
    "    return json_str\n",
    "\n",
    "\n",
    "# TODO fix broken\n",
    "async def generate_member_summary(member_id: str, model: str = GEMINI_FLASH_2) -> Optional[MemberSummary]:\n",
    "    prompt = get_member_summarisation_prompt(member_id)\n",
    "    summary = await generate_text(prompt, model=model)\n",
    "    assert summary is not None\n",
    "    summary = summary.removeprefix(\"```json\\n\").removesuffix(\"\\n```\")\n",
    "    summary = fix_crappy_json(summary)\n",
    "    try:    \n",
    "        summary = MemberSummary.model_validate_json(summary)\n",
    "    except Exception as e:\n",
    "        # with open(f\"{member_id}.json\", \"w\") as f:\n",
    "        #     f.write(summary)\n",
    "        return None\n",
    "    return summary"
   ]
  },
  {
   "cell_type": "code",
   "execution_count": null,
   "metadata": {},
   "outputs": [
    {
     "name": "stdout",
     "output_type": "stream",
     "text": [
      "Generating text with gemini-2.5-pro-preview-03-25 (78 chars)\n",
      "Received response from gemini-2.5-pro-preview-03-25 (1631 chars)\n",
      "Okay, let's clarify information about Bill C-79 from the 1st Session of the 44th Parliament of Canada.\n",
      "\n",
      "Based on parliamentary records:\n",
      "\n",
      "1.  **Bill C-79 did not exist in the 1st Session of the 44th Parliament.**\n",
      "2.  The 1st Session of the 44th Parliament ran from November 22, 2021, to September 20, 2023. Government bills introduced during that session went up to **Bill C-50**.\n",
      "3.  Bill numbering restarts with each new parliamentary session.\n",
      "\n",
      "**Therefore, there is no Bill C-79 from the 1st Session of the 44th Parliament to summarize.**\n",
      "\n",
      "**Possible Scenarios:**\n",
      "\n",
      "*   **Typo in Bill Number:** Could you be thinking of a different bill number from that session (e.g., Bill C-19, C-21, C-31)?\n",
      "*   **Different Session/Parliament:** Are you perhaps thinking of a Bill C-79 from a *different* Parliament or the *current* (2nd) Session? (Note: Bill C-79 in the *current* 2nd Session, introduced Dec 11, 2023, is \"An Act relating to the provision of funding for First Nations child and family services and JORDAN’S PRINCIPLE\").\n",
      "*   **Confusion with Similar Bill:** Perhaps you are thinking of **Bill C-78** from the *42nd Parliament* (introduced in May 2018), which made significant amendments to the *Divorce Act*, the *Family Orders and Agreements Enforcement Assistance Act*, and the *Garnishment, Attachment and Pension Diversion Act*. These changes came into force in 2021 and dealt with things like the best interests of the child, family violence, relocation, and enforcement.\n",
      "\n",
      "If you can provide a different bill number or more context about the subject matter you're interested in, I can help you find the correct information.\n"
     ]
    }
   ],
   "source": [
    "print(await generate_text(\"Please summarise bill C-79 of the 1st session of the 44th parliament of Canada\"))"
   ]
  },
  {
   "cell_type": "code",
   "execution_count": 13,
   "metadata": {},
   "outputs": [
    {
     "name": "stdout",
     "output_type": "stream",
     "text": [
      "Generating text with gemini-2.0-flash (6007116 chars)\n"
     ]
    },
    {
     "ename": "AssertionError",
     "evalue": "",
     "output_type": "error",
     "traceback": [
      "\u001b[31m---------------------------------------------------------------------------\u001b[39m",
      "\u001b[31mAssertionError\u001b[39m                            Traceback (most recent call last)",
      "\u001b[36mCell\u001b[39m\u001b[36m \u001b[39m\u001b[32mIn[13]\u001b[39m\u001b[32m, line 1\u001b[39m\n\u001b[32m----> \u001b[39m\u001b[32m1\u001b[39m pierre_2 = \u001b[38;5;28;01mawait\u001b[39;00m generate_member_summary(PIERRE)\n\u001b[32m      2\u001b[39m pierre_2_5 = \u001b[38;5;28;01mawait\u001b[39;00m generate_member_summary(PIERRE, model=GEMINI_PRO_2_5)\n\u001b[32m      3\u001b[39m \u001b[38;5;66;03m# pierre_sonnet = await generate_member_summary(PIERRE, model=SONNET)\u001b[39;00m\n",
      "\u001b[36mCell\u001b[39m\u001b[36m \u001b[39m\u001b[32mIn[12]\u001b[39m\u001b[32m, line 72\u001b[39m, in \u001b[36mgenerate_member_summary\u001b[39m\u001b[34m(member_id, model)\u001b[39m\n\u001b[32m     70\u001b[39m prompt = get_member_summarisation_prompt(member_id)\n\u001b[32m     71\u001b[39m summary = \u001b[38;5;28;01mawait\u001b[39;00m generate_text(prompt, model=model)\n\u001b[32m---> \u001b[39m\u001b[32m72\u001b[39m \u001b[38;5;28;01massert\u001b[39;00m summary \u001b[38;5;129;01mis\u001b[39;00m \u001b[38;5;129;01mnot\u001b[39;00m \u001b[38;5;28;01mNone\u001b[39;00m\n\u001b[32m     73\u001b[39m summary = summary.removeprefix(\u001b[33m\"\u001b[39m\u001b[33m```json\u001b[39m\u001b[38;5;130;01m\\n\u001b[39;00m\u001b[33m\"\u001b[39m).removesuffix(\u001b[33m\"\u001b[39m\u001b[38;5;130;01m\\n\u001b[39;00m\u001b[33m```\u001b[39m\u001b[33m\"\u001b[39m)\n\u001b[32m     74\u001b[39m summary = fix_crappy_json(summary)\n",
      "\u001b[31mAssertionError\u001b[39m: "
     ]
    }
   ],
   "source": [
    "pierre_2 = await generate_member_summary(PIERRE)\n",
    "pierre_2_5 = await generate_member_summary(PIERRE, model=GEMINI_PRO_2_5)\n",
    "# pierre_sonnet = await generate_member_summary(PIERRE, model=SONNET)"
   ]
  },
  {
   "cell_type": "code",
   "execution_count": null,
   "metadata": {},
   "outputs": [],
   "source": [
    "with open('pierre-pro.json', 'w') as f:\n",
    "    f.write(pierre_2_5.model_dump_json(indent=2))\n",
    "\n",
    "with open('pierre-flash.json', 'w') as f:\n",
    "    f.write(pierre_2.model_dump_json(indent=2))"
   ]
  },
  {
   "cell_type": "code",
   "execution_count": null,
   "metadata": {},
   "outputs": [],
   "source": [
    "with db_connect() as db:\n",
    "    all_member_ids = [row[0] for row in db.execute(f\"SELECT DISTINCT [Member ID] FROM {MEMBERS_TABLE}\").fetchall()]\n",
    "\n",
    "summaries = await asyncio.gather(*[\n",
    "    generate_member_summary(member_id)\n",
    "    for member_id in all_member_ids\n",
    "])\n",
    "\n",
    "member_summaries = [\n",
    "    {\"member_id\": member_id, \"summary\": summary.model_dump_json()}\n",
    "    for member_id, summary in zip(all_member_ids, summaries)\n",
    "    if summary is not None\n",
    "]"
   ]
  },
  {
   "cell_type": "code",
   "execution_count": null,
   "metadata": {},
   "outputs": [],
   "source": [
    "\n",
    "\n",
    "with db_connect() as db:\n",
    "    # Insert the new summaries\n",
    "    db.executemany(f\"UPDATE {MEMBERS_TABLE} SET Summary = :summary WHERE [Member ID] = :member_id\", member_summaries)\n"
   ]
  }
 ],
 "metadata": {
  "kernelspec": {
   "display_name": "repsheet",
   "language": "python",
   "name": "python3"
  },
  "language_info": {
   "codemirror_mode": {
    "name": "ipython",
    "version": 3
   },
   "file_extension": ".py",
   "mimetype": "text/x-python",
   "name": "python",
   "nbconvert_exporter": "python",
   "pygments_lexer": "ipython3",
   "version": "3.13.2"
  }
 },
 "nbformat": 4,
 "nbformat_minor": 2
}
