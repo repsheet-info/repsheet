{
 "cells": [
  {
   "cell_type": "code",
   "execution_count": 1,
   "metadata": {},
   "outputs": [],
   "source": [
    "from repsheet_backend.genai import generate_text, estimate_cost_usd_input_only\n",
    "from repsheet_backend.bills import get_latest_bill_text_path, get_every_bill_voted_on_by_a_member, BillId\n",
    "from repsheet_backend.common import db_connect, BILLS_TABLE\n",
    "from typing import Optional\n",
    "import asyncio\n",
    "import re\n",
    "import json"
   ]
  },
  {
   "cell_type": "code",
   "execution_count": 3,
   "metadata": {},
   "outputs": [],
   "source": [
    "with open(\"prompts/summarize-bill/001.txt\", \"r\") as f:\n",
    "    prompt_template = f.read()\n",
    "\n",
    "def get_bill_summarisation_prompt(bill: BillId) -> Optional[str]:\n",
    "    xml_path = get_latest_bill_text_path(bill)\n",
    "    if xml_path is None:\n",
    "        return None\n",
    "    with open(xml_path, \"r\") as f:\n",
    "        xml_text = f.read()\n",
    "    return prompt_template.replace(\"{{BILL_XML}}\", xml_text)\n",
    "\n",
    "google_ai_api_semaphore = asyncio.Semaphore(16)\n",
    "\n",
    "async def summarise_bill(bill) -> Optional[str]:\n",
    "    prompt = get_bill_summarisation_prompt(bill)\n",
    "    if prompt is None:\n",
    "        return None\n",
    "    async with google_ai_api_semaphore:\n",
    "        return await generate_text(prompt)\n",
    "\n",
    "async def estimate_summarise_bill_cost(bill) -> float:\n",
    "    prompt = get_bill_summarisation_prompt(bill)\n",
    "    if prompt is None:\n",
    "        return 0.0\n",
    "    async with google_ai_api_semaphore:\n",
    "        return await estimate_cost_usd_input_only(prompt)"
   ]
  },
  {
   "cell_type": "code",
   "execution_count": 3,
   "metadata": {},
   "outputs": [],
   "source": [
    "# costs = await asyncio.gather(\n",
    "#     *[estimate_summarise_bill_cost(bill) for bill in get_every_bill_voted_on_by_a_member()]\n",
    "# )\n",
    "\n",
    "# sum(cost for cost in costs if cost is not None)"
   ]
  },
  {
   "cell_type": "code",
   "execution_count": 5,
   "metadata": {},
   "outputs": [
    {
     "name": "stdout",
     "output_type": "stream",
     "text": [
      "Generating text with gemini-2.0-flash (1857641 chars)\n",
      "Generating text with gemini-2.0-flash (195942 chars)\n",
      "Generating text with gemini-2.0-flash (164567 chars)\n",
      "Generating text with gemini-2.0-flash (1148594 chars)\n",
      "Received response from gemini-2.0-flash (3754 chars)\n",
      "Received response from gemini-2.0-flash (3940 chars)\n",
      "Generating text with gemini-2.0-flash (10541 chars)\n",
      "Generating text with gemini-2.0-flash (9870 chars)\n",
      "Generating text with gemini-2.0-flash (144420 chars)\n",
      "Generating text with gemini-2.0-flash (18307 chars)\n",
      "Generating text with gemini-2.0-flash (13470 chars)\n",
      "Generating text with gemini-2.0-flash (43567 chars)\n",
      "Generating text with gemini-2.0-flash (9053 chars)\n",
      "Generating text with gemini-2.0-flash (17146 chars)\n",
      "Generating text with gemini-2.0-flash (8640 chars)\n",
      "Generating text with gemini-2.0-flash (6971 chars)\n",
      "Received response from gemini-2.0-flash (878 chars)\n",
      "Received response from gemini-2.0-flash (1430 chars)\n",
      "Received response from gemini-2.0-flash (1146 chars)\n",
      "Received response from gemini-2.0-flash (1701 chars)\n",
      "Received response from gemini-2.0-flash (909 chars)\n",
      "Received response from gemini-2.0-flash (1551 chars)\n",
      "Received response from gemini-2.0-flash (862 chars)\n",
      "Received response from gemini-2.0-flash (2312 chars)\n",
      "Received response from gemini-2.0-flash (3832 chars)\n",
      "Received response from gemini-2.0-flash (3147 chars)\n",
      "Generating text with gemini-2.0-flash (23492 chars)\n",
      "Generating text with gemini-2.0-flash (9892378 chars)\n",
      "Received response from gemini-2.0-flash (4726 chars)\n",
      "Received response from gemini-2.0-flash (2542 chars)\n",
      "Received response from gemini-2.0-flash (5215 chars)\n"
     ]
    }
   ],
   "source": [
    "bills = get_every_bill_voted_on_by_a_member()\n",
    "\n",
    "summaries = await asyncio.gather(\n",
    "    *[summarise_bill(bill) for bill in bills]\n",
    ")"
   ]
  },
  {
   "cell_type": "code",
   "execution_count": 13,
   "metadata": {},
   "outputs": [
    {
     "name": "stdout",
     "output_type": "stream",
     "text": [
      "Bill 41-1-C-13 failed to summarise, too thicc\n"
     ]
    }
   ],
   "source": [
    "trailing_comma_regex = re.compile(r\",\\s*}\")\n",
    "\n",
    "def cleanup_and_validate_json(json_text: str) -> str:\n",
    "    # Remove trailing commas before closing braces\n",
    "    json_text = trailing_comma_regex.sub(\"}\", json_text)\n",
    "    # Never seen this as an escape character before, but the AI seems to think it is\n",
    "    json_text = json_text.replace(\"\\\\$\", \"$\")\n",
    "    try:\n",
    "        json_obj = json.loads(json_text)\n",
    "    except json.JSONDecodeError as e:\n",
    "        print(f\"Error decoding JSON: {e}\")\n",
    "        print(json_text)\n",
    "        raise e\n",
    "    json_text = json.dumps(json_obj)\n",
    "    return json_text\n",
    "\n",
    "bill_summaries = []\n",
    "\n",
    "for bill, summary in zip(bills, summaries):\n",
    "    if summary is None:\n",
    "        print(f\"Bill {bill} failed to summarise, too thicc\")\n",
    "        continue\n",
    "    summary = summary.removeprefix(\"```json\\n\").removesuffix(\"\\n```\")\n",
    "    summary = cleanup_and_validate_json(summary)\n",
    "    bill_summaries.append({\n",
    "        \"bill_id\": str(bill),\n",
    "        \"summary\": summary\n",
    "    })"
   ]
  },
  {
   "cell_type": "code",
   "execution_count": null,
   "metadata": {},
   "outputs": [
    {
     "ename": "IntegrityError",
     "evalue": "NOT NULL constraint failed: bills.Parliament",
     "output_type": "error",
     "traceback": [
      "\u001b[31m---------------------------------------------------------------------------\u001b[39m",
      "\u001b[31mIntegrityError\u001b[39m                            Traceback (most recent call last)",
      "\u001b[36mCell\u001b[39m\u001b[36m \u001b[39m\u001b[32mIn[12]\u001b[39m\u001b[32m, line 6\u001b[39m\n\u001b[32m      3\u001b[39m db.execute(\u001b[33mf\u001b[39m\u001b[33m\"\u001b[39m\u001b[33mDELETE FROM \u001b[39m\u001b[38;5;132;01m{\u001b[39;00mBILLS_TABLE\u001b[38;5;132;01m}\u001b[39;00m\u001b[33m\"\u001b[39m)\n\u001b[32m      5\u001b[39m \u001b[38;5;66;03m# Insert the new summaries\u001b[39;00m\n\u001b[32m----> \u001b[39m\u001b[32m6\u001b[39m \u001b[43mdb\u001b[49m\u001b[43m.\u001b[49m\u001b[43mexecutemany\u001b[49m\u001b[43m(\u001b[49m\u001b[33;43mf\u001b[39;49m\u001b[33;43m\"\u001b[39;49m\u001b[33;43mINSERT INTO \u001b[39;49m\u001b[38;5;132;43;01m{\u001b[39;49;00m\u001b[43mBILLS_TABLE\u001b[49m\u001b[38;5;132;43;01m}\u001b[39;49;00m\u001b[33;43m ([Bill ID], Summary) VALUES (?, ?)\u001b[39;49m\u001b[33;43m\"\u001b[39;49m\u001b[43m,\u001b[49m\u001b[43m \u001b[49m\u001b[43mbill_summaries\u001b[49m\u001b[43m)\u001b[49m\n",
      "\u001b[31mIntegrityError\u001b[39m: NOT NULL constraint failed: bills.Parliament"
     ]
    }
   ],
   "source": [
    "with db_connect() as db:\n",
    "    # Insert the new summaries\n",
    "    db.executemany(f\"UPDATE {BILLS_TABLE} SET Summary = :summary WHERE [Bill ID] = :bill_id\", bill_summaries)\n"
   ]
  }
 ],
 "metadata": {
  "kernelspec": {
   "display_name": "repsheet",
   "language": "python",
   "name": "python3"
  },
  "language_info": {
   "codemirror_mode": {
    "name": "ipython",
    "version": 3
   },
   "file_extension": ".py",
   "mimetype": "text/x-python",
   "name": "python",
   "nbconvert_exporter": "python",
   "pygments_lexer": "ipython3",
   "version": "3.12.9"
  }
 },
 "nbformat": 4,
 "nbformat_minor": 2
}
