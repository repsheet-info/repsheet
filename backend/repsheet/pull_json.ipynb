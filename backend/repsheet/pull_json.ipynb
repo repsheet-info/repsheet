{
 "cells": [
  {
   "cell_type": "code",
   "execution_count": 16,
   "metadata": {},
   "outputs": [],
   "source": [
    "from httpx import AsyncClient\n",
    "import os\n",
    "from os import path\n",
    "import pandas as pd\n",
    "import sqlite3\n",
    "from contextlib import contextmanager\n",
    "from typing import Optional\n",
    "import re"
   ]
  },
  {
   "cell_type": "code",
   "execution_count": 17,
   "metadata": {},
   "outputs": [],
   "source": [
    "PARLIMENTARY_SESSIONS = (\n",
    "    \"44-1\",\n",
    "    \"43-2\",\n",
    "    \"43-1\",\n",
    "    \"42-1\",\n",
    "    \"41-2\",\n",
    "    \"41-1\",\n",
    "    \"40-3\",\n",
    "    \"40-2\",\n",
    "    \"40-1\",\n",
    "    \"39-2\",\n",
    "    \"39-1\",\n",
    "    \"38-1\",\n",
    ")\n",
    "\n",
    "DATA_DIR = \"backend/data\"\n",
    "EXPORT_DB = \"repsheet.sqlite\"\n",
    "\n",
    "VOTES_HELD_TABLE = \"votes_held\"\n",
    "MEMBER_VOTES_TABLE = \"member_votes\"\n",
    "MEMBERS_TABLE = \"members\"\n",
    "\n",
    "os.makedirs(DATA_DIR, exist_ok=True)\n",
    "\n",
    "httpx = AsyncClient()\n",
    "\n",
    "@contextmanager\n",
    "def db_connect():\n",
    "    \"\"\"Context manager for database connection.\"\"\"\n",
    "    db = sqlite3.connect(EXPORT_DB)\n",
    "    db.row_factory = sqlite3.Row\n",
    "    try:\n",
    "        yield db\n",
    "    finally:\n",
    "        db.commit()\n",
    "        db.close()"
   ]
  },
  {
   "cell_type": "code",
   "execution_count": 18,
   "metadata": {},
   "outputs": [],
   "source": [
    "def print_table_schema(table_name):\n",
    "    \"\"\"Print the schema of a given table.\"\"\"\n",
    "    with db_connect() as db:\n",
    "        cursor = db.cursor()\n",
    "        cursor.execute(f\"PRAGMA table_info({table_name})\")\n",
    "        rows = cursor.fetchall()\n",
    "        for row in rows:\n",
    "            print(f\"{row[1]}: {row[2]}\")\n",
    "\n",
    "def parse_parl_datetime(date_str: str) -> Optional[pd.Timestamp]:\n",
    "    \"\"\"Parses strings in parliamentary datetime format, e.g. 2024-12-17 3:50:01 p.m.\"\"\"\n",
    "    if not date_str or pd.isna(date_str):\n",
    "        return None\n",
    "    date_str = date_str.replace(\"p.m.\", \"PM\").replace(\"a.m.\", \"AM\")\n",
    "    return pd.to_datetime(date_str, format=\"%Y-%m-%d %I:%M:%S %p\").tz_localize(\"Canada/Eastern\")"
   ]
  },
  {
   "cell_type": "markdown",
   "metadata": {},
   "source": [
    "# Build the sqlite db"
   ]
  },
  {
   "cell_type": "markdown",
   "metadata": {},
   "source": [
    "## Members of Parliament"
   ]
  },
  {
   "cell_type": "markdown",
   "metadata": {},
   "source": [
    "### Download members csv"
   ]
  },
  {
   "cell_type": "code",
   "execution_count": 19,
   "metadata": {},
   "outputs": [
    {
     "name": "stdout",
     "output_type": "stream",
     "text": [
      "Downloaded members-44.csv\n"
     ]
    }
   ],
   "source": [
    "latest_parliament = max(PARLIMENTARY_SESSIONS).split(\"-\")[0]\n",
    "assert latest_parliament == \"44\"\n",
    "\n",
    "filename = f\"members-{latest_parliament}.csv\"\n",
    "filepath = path.join(DATA_DIR, filename)\n",
    "if not path.exists(filepath):\n",
    "    resp = await httpx.get(f\"https://www.ourcommons.ca/Members/en/search/csv?parliament={latest_parliament}&caucusId=all&province=all&gender=all\")\n",
    "    resp.raise_for_status()\n",
    "    with open(filepath, \"wb\") as f:\n",
    "        f.write(resp.content)\n",
    "    print(f\"Downloaded {filename}\")"
   ]
  },
  {
   "cell_type": "markdown",
   "metadata": {},
   "source": [
    "### Insert into sqlite"
   ]
  },
  {
   "cell_type": "code",
   "execution_count": null,
   "metadata": {},
   "outputs": [
    {
     "name": "stdout",
     "output_type": "stream",
     "text": [
      "Inserted 349 members into members table.\n",
      "Honorific Title: TEXT\n",
      "First Name: TEXT\n",
      "Last Name: TEXT\n",
      "Constituency: TEXT\n",
      "Province / Territory: TEXT\n",
      "Political Affiliation: TEXT\n",
      "Start Date: TIMESTAMP\n",
      "End Date: TIMESTAMP\n",
      "Member ID: TEXT\n"
     ]
    }
   ],
   "source": [
    "members = pd.read_csv(filepath)\n",
    "members[\"Start Date\"] = members[\"Start Date\"].apply(parse_parl_datetime)\n",
    "members[\"End Date\"] = members[\"End Date\"].apply(parse_parl_datetime)\n",
    "members[\"Member ID\"] = members.apply(lambda row: f\"{row['First Name']} {row[\"Last Name\"]} ({row[\"Constituency\"]})\", axis=1)\n",
    "\n",
    "with db_connect() as db:\n",
    "    members.to_sql(MEMBERS_TABLE, db, if_exists=\"replace\", index=False)\n",
    "    db.execute(f\"CREATE UNIQUE INDEX IF NOT EXISTS idx_member_id ON {MEMBERS_TABLE} ([Member ID])\")\n",
    "    print(f\"Inserted {len(members)} members into {MEMBERS_TABLE} table.\")\n",
    "    \n",
    "print_table_schema(MEMBERS_TABLE)"
   ]
  },
  {
   "cell_type": "code",
   "execution_count": 63,
   "metadata": {},
   "outputs": [],
   "source": [
    "FULL_MEMBER_NAME_REGEX = re.compile(r\"^([^\\.]+)\\. ([^\\(]+)\\(([^\\)]+)\\)$\")\n",
    "\n",
    "def find_member_id(full_member_name: str) -> Optional[str]:\n",
    "    \"\"\"Find a member ID from their full name (e.g. Mr. Justin Trudeau (Papineau)). \n",
    "    Really flakey matching but if it works it works.\"\"\"\n",
    "    match = FULL_MEMBER_NAME_REGEX.match(full_member_name)\n",
    "    if not match:\n",
    "        raise ValueError(f\"Failed to match full member name: {full_member_name}\")\n",
    "    honorific, member_name, constituency = match.groups()\n",
    "    member_name = member_name.strip()\n",
    "    first_name = member_name.split(\" \")[0]\n",
    "    last_name = member_name.split(\" \")[-1]\n",
    "    with db_connect() as db:\n",
    "        cursor = db.cursor()\n",
    "        cursor.execute(\n",
    "            f\"SELECT [Member ID] FROM {MEMBERS_TABLE} \"\n",
    "            \"WHERE [First Name] LIKE ? AND [Last Name] LIKE ? AND Constituency = ?\", \n",
    "            (f\"{first_name}%\", f\"%{last_name}\", constituency))\n",
    "        rows = cursor.fetchall()\n",
    "    if len(rows) > 1:\n",
    "        raise ValueError(f\"Found multiple member IDs for {full_member_name}: {rows}\")\n",
    "    if len(rows) == 0:\n",
    "        return None\n",
    "    else:\n",
    "        assert len(rows) == 1\n",
    "        return rows[0][0]\n",
    "    \n",
    "assert find_member_id(\"Mr. Justin Trudeau (Papineau)\") is not None\n",
    "assert find_member_id(\"Mr. Harjit S. Sajjan (Vancouver South)\") is not None\n",
    "assert find_member_id(\"Ms. Soraya Martinez Ferrada (Hochelaga)\") is not None"
   ]
  },
  {
   "cell_type": "markdown",
   "metadata": {},
   "source": [
    "## Votes held across all parliamentary sessions"
   ]
  },
  {
   "cell_type": "markdown",
   "metadata": {},
   "source": [
    "### Pull files as csvs"
   ]
  },
  {
   "cell_type": "code",
   "execution_count": 32,
   "metadata": {},
   "outputs": [],
   "source": [
    "os.makedirs(path.join(DATA_DIR, VOTES_HELD_TABLE), exist_ok=True)\n",
    "\n",
    "for session in PARLIMENTARY_SESSIONS:\n",
    "    filename = f\"votes-{session}.csv\"\n",
    "    filepath = path.join(DATA_DIR, VOTES_HELD_TABLE, filename)\n",
    "    if path.exists(filepath):\n",
    "        # print(f\"File {filename} already exists, skipping download.\")\n",
    "        continue\n",
    "    resp = await httpx.get(f\"https://www.ourcommons.ca/Members/en/votes/csv?parlSession={session}\")\n",
    "    resp.raise_for_status()\n",
    "    with open(filepath, \"wb\") as f:\n",
    "        f.write(resp.content)\n",
    "    print(f\"Downloaded {filename}\")"
   ]
  },
  {
   "cell_type": "markdown",
   "metadata": {},
   "source": [
    "### Format and insert into the sqlite db"
   ]
  },
  {
   "cell_type": "code",
   "execution_count": 35,
   "metadata": {},
   "outputs": [
    {
     "name": "stdout",
     "output_type": "stream",
     "text": [
      "Parliament: INTEGER\n",
      "Session: INTEGER\n",
      "Date: TIMESTAMP\n",
      "Vote Number: INTEGER\n",
      "Vote Subject: TEXT\n",
      "Vote Result: TEXT\n",
      "Yeas: INTEGER\n",
      "Nays: INTEGER\n",
      "Paired: INTEGER\n",
      "Bill Number: TEXT\n",
      "Agreed To: INTEGER\n",
      "Vote ID: TEXT\n"
     ]
    }
   ],
   "source": [
    "is_first = True\n",
    "\n",
    "with db_connect() as db:\n",
    "    for session in PARLIMENTARY_SESSIONS:\n",
    "        filename = f\"votes-{session}.csv\"\n",
    "        filepath = path.join(DATA_DIR, VOTES_HELD_TABLE, filename)\n",
    "        assert path.exists(filepath), f\"File {filename} does not exist\"\n",
    "\n",
    "        v = pd.read_csv(filepath)\n",
    "\n",
    "        v[\"Vote Subject\"] = v[\"Vote Subject\"].astype(\"string\")\n",
    "        v[\"Vote Result\"] = v[\"Vote Result\"].astype(\"string\")\n",
    "        v[\"Agreed To\"] = v[\"Vote Result\"].apply(lambda x: True if x == \"Agreed To\" else False)\n",
    "        v[\"Bill Number\"] = v[\"Bill Number\"].astype(\"string\")\n",
    "        v[\"Date\"] = v[\"Date\"].apply(parse_parl_datetime)\n",
    "        v[\"Vote ID\"] = v[\"Parliament\"].astype(\"string\") + \"-\" + v[\"Session\"].astype(\"string\") + \"-\" + v[\"Vote Number\"].astype(\"string\")\n",
    "\n",
    "        for c in v.columns:\n",
    "            assert v[c].dtype != \"object\", f\"Column {c} is still an object type\"\n",
    "\n",
    "        v.to_sql(VOTES_HELD_TABLE, db, if_exists=\"replace\" if is_first else \"append\", index=False)\n",
    "        is_first = False\n",
    "\n",
    "    db.execute(\n",
    "        f\"CREATE UNIQUE INDEX IF NOT EXISTS idx_session_vote_id ON {VOTES_HELD_TABLE} ([Vote ID])\"\n",
    "    )\n",
    "\n",
    "    print_table_schema(VOTES_HELD_TABLE)"
   ]
  },
  {
   "cell_type": "markdown",
   "metadata": {},
   "source": [
    "## Who voted for what"
   ]
  },
  {
   "cell_type": "markdown",
   "metadata": {},
   "source": [
    "### Download member voting data"
   ]
  },
  {
   "cell_type": "code",
   "execution_count": null,
   "metadata": {},
   "outputs": [
    {
     "name": "stdout",
     "output_type": "stream",
     "text": [
      "Total number of votes held: 4678\n"
     ]
    }
   ],
   "source": [
    "with db_connect() as db:\n",
    "    cursor = db.cursor()\n",
    "    cursor.execute(f\"SELECT Parliament, Session, [Vote Number] FROM {VOTES_HELD_TABLE}\")\n",
    "    rows = cursor.fetchall()\n",
    "    votes_held = [tuple(row) for row in rows]\n",
    "    print(f\"Total number of votes held: {len(votes_held)}\")\n",
    "\n",
    "os.makedirs(path.join(DATA_DIR, MEMBER_VOTES_TABLE), exist_ok=True)\n",
    "\n",
    "for parliament, session, vote_number in votes_held:\n",
    "    url = f\"https://www.ourcommons.ca/Members/en/votes/{parliament}/{session}/{vote_number}/csv\"\n",
    "    filename = f\"member-votes-{parliament}-{session}-{vote_number}.csv\"\n",
    "    filepath = path.join(DATA_DIR, MEMBER_VOTES_TABLE, filename)\n",
    "    if path.exists(filepath):\n",
    "        # print(f\"File {filename} already exists, skipping download.\")\n",
    "        continue\n",
    "    resp = await httpx.get(url)\n",
    "    resp.raise_for_status()\n",
    "    with open(filepath, \"wb\") as f:\n",
    "        f.write(resp.content)\n",
    "    print(f\"Downloaded {filename}\")\n"
   ]
  },
  {
   "cell_type": "markdown",
   "metadata": {},
   "source": [
    "### Insert member voting data into the sqlite db"
   ]
  },
  {
   "cell_type": "code",
   "execution_count": 49,
   "metadata": {},
   "outputs": [
    {
     "name": "stdout",
     "output_type": "stream",
     "text": [
      "{'Honorific Title': None, 'First Name': 'Lisa Marie', 'Last Name': 'Barron', 'Constituency': 'Nanaimo—Ladysmith', 'Province / Territory': 'British Columbia', 'Political Affiliation': 'NDP', 'Start Date': '2021-09-20 00:00:00-04:00', 'End Date': None, 'Member ID': 'Lisa Marie Barron (Nanaimo—Ladysmith)'}\n"
     ]
    }
   ],
   "source": [
    "with db_connect() as db:\n",
    "    for x in db.execute(f\"SELECT * FROM {MEMBERS_TABLE} WHERE Constituency = 'Nanaimo—Ladysmith'\").fetchall():\n",
    "        print(dict(x))"
   ]
  },
  {
   "cell_type": "code",
   "execution_count": 64,
   "metadata": {},
   "outputs": [],
   "source": [
    "with db_connect() as db:\n",
    "    bill_vote_ids = [row[\"Vote ID\"] for row in db.execute(f\"SELECT [Vote ID] FROM {VOTES_HELD_TABLE} WHERE [Bill Number] IS NOT NULL\").fetchall()][:1]\n",
    "    member_vote_rows = []\n",
    "    for vote_id in bill_vote_ids:\n",
    "        filename = f\"member-votes-{vote_id}.csv\"\n",
    "        filepath = path.join(DATA_DIR, MEMBER_VOTES_TABLE, filename)\n",
    "        assert path.exists(filepath), f\"File {filename} does not exist\"\n",
    "        v = pd.read_csv(filepath)\n",
    "        v[\"Member ID\"] = v[\"Member of Parliament\"].apply(find_member_id)\n",
    "\n",
    "\n",
    "        parliament = vote_id.split(\"-\")[0]\n",
    "        if parliament == latest_parliament and len(v[v[\"Member ID\"].isna()]) > 0:\n",
    "            raise ValueError(f\"Found members of latest Parliament we could not match to an ID: {v[v[\"Member ID\"].isna()]}\")\n",
    "        \n"
   ]
  },
  {
   "cell_type": "code",
   "execution_count": null,
   "metadata": {},
   "outputs": [
    {
     "data": {
      "text/plain": [
       "6"
      ]
     },
     "execution_count": 44,
     "metadata": {},
     "output_type": "execute_result"
    }
   ],
   "source": []
  },
  {
   "cell_type": "markdown",
   "metadata": {},
   "source": [
    "## Optimize the sqlite db"
   ]
  },
  {
   "cell_type": "code",
   "execution_count": 18,
   "metadata": {},
   "outputs": [],
   "source": [
    "with db_connect() as db:\n",
    "    db.execute(\"VACUUM\")\n",
    "    db.execute(\"PRAGMA optimize\")\n",
    "    db.execute(\"ANALYZE\")"
   ]
  }
 ],
 "metadata": {
  "kernelspec": {
   "display_name": "repsheet",
   "language": "python",
   "name": "python3"
  },
  "language_info": {
   "codemirror_mode": {
    "name": "ipython",
    "version": 3
   },
   "file_extension": ".py",
   "mimetype": "text/x-python",
   "name": "python",
   "nbconvert_exporter": "python",
   "pygments_lexer": "ipython3",
   "version": "3.12.9"
  }
 },
 "nbformat": 4,
 "nbformat_minor": 2
}
