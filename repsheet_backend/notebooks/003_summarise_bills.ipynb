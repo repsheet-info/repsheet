{
 "cells": [
  {
   "cell_type": "code",
   "execution_count": 1,
   "metadata": {},
   "outputs": [],
   "source": [
    "from repsheet_backend.genai import generate_text\n",
    "from repsheet_backend.bills import get_latest_bill_text_path, get_every_bill_voted_on_by_a_member\n",
    "from repsheet_backend.common import db_connect, BILLS_TABLE\n",
    "from typing import Optional"
   ]
  },
  {
   "cell_type": "code",
   "execution_count": 2,
   "metadata": {},
   "outputs": [],
   "source": [
    "with open(\"prompts/summarize-bill/001.txt\", \"r\") as f:\n",
    "    prompt_template = f.read()\n",
    "\n",
    "def summarise_bill(bill) -> Optional[str]:\n",
    "    xml_path = get_latest_bill_text_path(bill)\n",
    "    if xml_path is None:\n",
    "        return None\n",
    "    with open(xml_path, \"r\") as f:\n",
    "        xml_text = f.read()\n",
    "    prompt = prompt_template + xml_text\n",
    "    return generate_text(prompt)"
   ]
  },
  {
   "cell_type": "code",
   "execution_count": 3,
   "metadata": {},
   "outputs": [],
   "source": [
    "bill_summaries = []\n",
    "\n",
    "for bill in get_every_bill_voted_on_by_a_member()[:5]:\n",
    "    summary = summarise_bill(bill)\n",
    "    if summary is not None:\n",
    "        bill_summaries.append({\n",
    "            \"bill\": bill,\n",
    "            \"summary\": summary\n",
    "        })"
   ]
  },
  {
   "cell_type": "code",
   "execution_count": null,
   "metadata": {},
   "outputs": [],
   "source": [
    "with db_connect() as db:\n",
    "    # Clear the table before inserting new summaries\n",
    "    db.execute(f\"DELETE FROM {BILLS_TABLE}\")\n",
    "\n",
    "    insert_values = []\n",
    "    for bs in bill_summaries:\n",
    "        bill = bs[\"bill\"]\n",
    "        summary = bs[\"summary\"]\n",
    "        summary = summary.removeprefix(\"```json\\n\").removesuffix(\"\\n```\")\n",
    "        insert_values.append((str(bill), summary))\n",
    "\n",
    "    # Insert the new summaries\n",
    "    db.executemany(f\"INSERT INTO {BILLS_TABLE} ([Bill ID], Summary) VALUES (?, ?)\", insert_values)\n"
   ]
  }
 ],
 "metadata": {
  "kernelspec": {
   "display_name": "repsheet",
   "language": "python",
   "name": "python3"
  },
  "language_info": {
   "codemirror_mode": {
    "name": "ipython",
    "version": 3
   },
   "file_extension": ".py",
   "mimetype": "text/x-python",
   "name": "python",
   "nbconvert_exporter": "python",
   "pygments_lexer": "ipython3",
   "version": "3.13.2"
  }
 },
 "nbformat": 4,
 "nbformat_minor": 2
}
