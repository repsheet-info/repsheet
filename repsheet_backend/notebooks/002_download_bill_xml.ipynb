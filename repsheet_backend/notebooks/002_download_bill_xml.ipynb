{
 "cells": [
  {
   "cell_type": "code",
   "execution_count": 1,
   "id": "25eaf20b",
   "metadata": {},
   "outputs": [],
   "source": [
    "from repsheet_backend.common import DATA_DIR, db_connect, MEMBER_VOTES_TABLE, VOTES_HELD_TABLE, GCP_BILLING_PROJECT, download_all_bill_texts, BillId\n",
    "import httpx\n",
    "import os\n",
    "from os import path\n",
    "from multiprocessing.pool import ThreadPool\n",
    "from anthropic import Anthropic\n",
    "from google import genai\n",
    "from typing import Optional"
   ]
  },
  {
   "cell_type": "markdown",
   "id": "41c546a5",
   "metadata": {},
   "source": [
    "## Enumerate every bill voted on by a current member"
   ]
  },
  {
   "cell_type": "code",
   "execution_count": 2,
   "id": "03d22f90",
   "metadata": {},
   "outputs": [],
   "source": [
    "with db_connect() as db:\n",
    "    bills = db.execute(\n",
    "        \"SELECT DISTINCT v.[Parliament], v.[Session], v.[Bill Number] \"\n",
    "        f\"FROM {MEMBER_VOTES_TABLE} mv \"\n",
    "        f\"LEFT JOIN {VOTES_HELD_TABLE} v ON v.[Vote ID] = mv.[Vote ID] \"\n",
    "        \"WHERE [Bill Number] IS NOT NULL \"\n",
    "        \"ORDER BY v.[Parliament] DESC \"\n",
    "    ).fetchall()\n",
    "\n",
    "    bills = [tuple(row) for row in bills]\n",
    "    with ThreadPool(8) as pool:\n",
    "        results = pool.starmap(download_all_bill_texts, bills)"
   ]
  },
  {
   "cell_type": "code",
   "execution_count": 3,
   "id": "8deef8c5",
   "metadata": {},
   "outputs": [
    {
     "data": {
      "text/plain": [
       "(0, 144)"
      ]
     },
     "execution_count": 3,
     "metadata": {},
     "output_type": "execute_result"
    }
   ],
   "source": [
    "i, j = 0, 0\n",
    "for row, found in zip(bills, results):\n",
    "    parliament, session, bill_number = row\n",
    "    if parliament != 44 or session != 1:\n",
    "        continue\n",
    "    if not found:\n",
    "        print(f\"Bill text not found for {row}\")\n",
    "        i += 1\n",
    "    else:\n",
    "        # print(f\"Bill text found for {row}\")\n",
    "        j += 1\n",
    "i, j"
   ]
  },
  {
   "cell_type": "code",
   "execution_count": 4,
   "id": "d214f384",
   "metadata": {},
   "outputs": [],
   "source": [
    "def get_latest_bill_text_path(bill: BillId) -> Optional[str]:\n",
    "    parliament, session, bill_number = bill\n",
    "    latest_reading_path = \"\"\n",
    "    for reading in (1, 2, 3, 4):\n",
    "        texts_path = path.join(DATA_DIR, f\"bill_text/{parliament}/{session}/{bill_number}/{bill_number}_{reading}\")\n",
    "        for file in os.listdir(texts_path):\n",
    "            assert file.endswith(\".xml\")\n",
    "            filepath = path.join(texts_path, file)\n",
    "            if path.getsize(filepath) > 0:\n",
    "                latest_reading_path = max(latest_reading_path, filepath)\n",
    "    if latest_reading_path:\n",
    "        return latest_reading_path\n",
    "    return None\n",
    "    "
   ]
  },
  {
   "cell_type": "code",
   "execution_count": 32,
   "id": "3e928b65",
   "metadata": {},
   "outputs": [],
   "source": [
    "google_ai = genai.Client(\n",
    "    vertexai=True, project='repsheet-app-prod', location='us-central1'\n",
    ")"
   ]
  },
  {
   "cell_type": "code",
   "execution_count": null,
   "id": "49f4775b",
   "metadata": {},
   "outputs": [],
   "source": [
    "with open(\"prompts/summarize-bill/001.txt\", \"r\") as f:\n",
    "    prompt_template = f.read()\n",
    "\n",
    "def summarise_bill(bill, model=\"gemini-2.0-flash\"):\n",
    "    xml_path = get_latest_bill_text_path(bill)\n",
    "    if xml_path is None:\n",
    "        return None\n",
    "    with open(xml_path, \"r\") as f:\n",
    "        xml_text = f.read()\n",
    "    prompt = prompt_template + xml_text\n",
    "    response = google_ai.models.generate_content(\n",
    "        model=model,\n",
    "        contents=prompt\n",
    "    )\n",
    "    return response.text\n"
   ]
  },
  {
   "cell_type": "code",
   "execution_count": null,
   "id": "c3aa7f82",
   "metadata": {},
   "outputs": [
    {
     "name": "stdout",
     "output_type": "stream",
     "text": [
      "(44, 1, 'C-79') 53801\n"
     ]
    }
   ],
   "source": [
    "# token_counts_google = {}\n",
    "\n",
    "# for bill, filepath in list(latest_bill_file.items())[:1]:\n",
    "#     with open(filepath, \"r\") as f:\n",
    "#         text = f.read()\n",
    "#     response = google_ai.models.count_tokens(\n",
    "#         model=\"gemini-2.0-flash\",\n",
    "#         contents=text\n",
    "#     )\n",
    "    \n",
    "#     token_counts_google[bill] = response.total_tokens\n",
    "#     print(bill, response.total_tokens)"
   ]
  }
 ],
 "metadata": {
  "kernelspec": {
   "display_name": "repsheet",
   "language": "python",
   "name": "python3"
  },
  "language_info": {
   "codemirror_mode": {
    "name": "ipython",
    "version": 3
   },
   "file_extension": ".py",
   "mimetype": "text/x-python",
   "name": "python",
   "nbconvert_exporter": "python",
   "pygments_lexer": "ipython3",
   "version": "3.13.2"
  }
 },
 "nbformat": 4,
 "nbformat_minor": 5
}
