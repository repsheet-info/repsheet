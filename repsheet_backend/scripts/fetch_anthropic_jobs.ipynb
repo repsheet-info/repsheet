{
 "cells": [
  {
   "cell_type": "markdown",
   "id": "f6ba7c87",
   "metadata": {},
   "source": [
    "If the process crashes while we are waiting for Anthropic batch jobs to complete, this code can pull the results down when they are ready and put them in the cache"
   ]
  },
  {
   "cell_type": "code",
   "execution_count": 4,
   "id": "e01120e3",
   "metadata": {},
   "outputs": [],
   "source": [
    "from repsheet_backend.genai import anthropic, genai_cache\n",
    "import asyncio"
   ]
  },
  {
   "cell_type": "code",
   "execution_count": null,
   "id": "1e280346",
   "metadata": {},
   "outputs": [],
   "source": [
    "SAVED_BATCH_IDS_FILE = \"repsheet_backend/data/saved_batch_ids.txt\"\n",
    "\n",
    "with open(SAVED_BATCH_IDS_FILE, \"r\") as f:\n",
    "    saved_batch_ids = f.read().splitlines()\n",
    "\n",
    "async def save_batch_to_cache(batch_id: str):\n",
    "    if batch_id in saved_batch_ids:\n",
    "        return\n",
    "    results = await asyncio.to_thread(anthropic.messages.batches.results, batch_id)\n",
    "    saved_count = 0\n",
    "    cache_set_jobs = []\n",
    "    for result in results:\n",
    "        cache_key = result.custom_id\n",
    "        # there are some old jobs with numeric custom_ids\n",
    "        if len(cache_key) > 10:\n",
    "            if not await genai_cache.has(cache_key):\n",
    "                cache_set_jobs.append(genai_cache.set(cache_key, result.result.message.content[0].text)) # type: ignore\n",
    "            saved_count += 1\n",
    "    await asyncio.gather(*cache_set_jobs)\n",
    "    print(f\"Saved {saved_count} results for {batch_id}\")\n",
    "    saved_batch_ids.append(batch_id)"
   ]
  },
  {
   "cell_type": "code",
   "execution_count": null,
   "id": "2df8f599",
   "metadata": {},
   "outputs": [],
   "source": [
    "await asyncio.gather(*[\n",
    "    save_batch_to_cache(message.id)\n",
    "    for message in anthropic.messages.batches.list()\n",
    "    if message.processing_status == \"ended\"\n",
    "])\n",
    "\n",
    "for message in anthropic.messages.batches.list():\n",
    "    if message.processing_status != \"ended\":\n",
    "        print(f\"Batch {message.id} is still {message.processing_status}\")"
   ]
  },
  {
   "cell_type": "code",
   "execution_count": null,
   "id": "f952c1f4",
   "metadata": {},
   "outputs": [],
   "source": [
    "with open(SAVED_BATCH_IDS_FILE, \"w\") as f:\n",
    "    f.write(\"\\n\".join(saved_batch_ids))"
   ]
  }
 ],
 "metadata": {
  "kernelspec": {
   "display_name": "repsheet",
   "language": "python",
   "name": "python3"
  },
  "language_info": {
   "codemirror_mode": {
    "name": "ipython",
    "version": 3
   },
   "file_extension": ".py",
   "mimetype": "text/x-python",
   "name": "python",
   "nbconvert_exporter": "python",
   "pygments_lexer": "ipython3",
   "version": "3.13.2"
  }
 },
 "nbformat": 4,
 "nbformat_minor": 5
}
