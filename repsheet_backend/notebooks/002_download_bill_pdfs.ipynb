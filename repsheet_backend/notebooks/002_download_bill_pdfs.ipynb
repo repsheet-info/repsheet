{
 "cells": [
  {
   "cell_type": "code",
   "execution_count": 1,
   "id": "25eaf20b",
   "metadata": {},
   "outputs": [],
   "source": [
    "from repsheet_backend.common import DATA_DIR, db_connect"
   ]
  },
  {
   "cell_type": "markdown",
   "id": "81c18269",
   "metadata": {},
   "source": [
    "https://www.parl.ca/Content/Bills/441/Private/S-210/S-210_3/S-210_3.PDF\n",
    "https://www.parl.ca/Content/Bills/441/Government/S-16/S-16_4/S-16_4.PDF\n",
    "\n"
   ]
  }
 ],
 "metadata": {
  "kernelspec": {
   "display_name": "repsheet",
   "language": "python",
   "name": "python3"
  },
  "language_info": {
   "codemirror_mode": {
    "name": "ipython",
    "version": 3
   },
   "file_extension": ".py",
   "mimetype": "text/x-python",
   "name": "python",
   "nbconvert_exporter": "python",
   "pygments_lexer": "ipython3",
   "version": "3.12.9"
  }
 },
 "nbformat": 4,
 "nbformat_minor": 5
}
