{
 "cells": [
  {
   "cell_type": "code",
   "execution_count": 1,
   "metadata": {},
   "outputs": [],
   "source": [
    "import httpx\n",
    "import os\n",
    "from os import path\n",
    "import pandas as pd\n",
    "from typing import Optional\n",
    "import re\n",
    "from tqdm.notebook import tqdm\n",
    "from repsheet_backend.common import db_connect, PARLIMENTARY_SESSIONS, DATA_DIR, MEMBER_VOTES_TABLE, MEMBERS_TABLE, VOTES_HELD_TABLE, BILLS_TABLE\n",
    "from repsheet_backend.bills import BillId\n",
    "import json\n",
    "from datetime import datetime"
   ]
  },
  {
   "cell_type": "code",
   "execution_count": 2,
   "metadata": {},
   "outputs": [],
   "source": [
    "def parse_parl_datetime(date_str: str) -> Optional[pd.Timestamp]:\n",
    "    \"\"\"Parses strings in parliamentary datetime format, e.g. 2024-12-17 3:50:01 p.m.\"\"\"\n",
    "    if not date_str or pd.isna(date_str):\n",
    "        return None\n",
    "    date_str = date_str.replace(\"p.m.\", \"PM\").replace(\"a.m.\", \"AM\")\n",
    "    return pd.to_datetime(date_str, format=\"%Y-%m-%d %I:%M:%S %p\").tz_localize(\"Canada/Eastern\")"
   ]
  },
  {
   "cell_type": "markdown",
   "metadata": {},
   "source": [
    "# Build the sqlite db"
   ]
  },
  {
   "cell_type": "markdown",
   "metadata": {},
   "source": [
    "## Members of Parliament"
   ]
  },
  {
   "cell_type": "markdown",
   "metadata": {},
   "source": [
    "### Download members csv"
   ]
  },
  {
   "cell_type": "code",
   "execution_count": 3,
   "metadata": {},
   "outputs": [],
   "source": [
    "latest_parliament = max(PARLIMENTARY_SESSIONS).split(\"-\")[0]\n",
    "assert latest_parliament == \"44\"\n",
    "\n",
    "filename = f\"members-{latest_parliament}.csv\"\n",
    "filepath = path.join(DATA_DIR, filename)\n",
    "if not path.exists(filepath):\n",
    "    resp = httpx.get(f\"https://www.ourcommons.ca/Members/en/search/csv?parliament={latest_parliament}&caucusId=all&province=all&gender=all\")\n",
    "    resp.raise_for_status()\n",
    "    with open(filepath, \"wb\") as f:\n",
    "        f.write(resp.content)\n",
    "    print(f\"Downloaded {filename}\")"
   ]
  },
  {
   "cell_type": "markdown",
   "metadata": {},
   "source": [
    "### Insert into sqlite"
   ]
  },
  {
   "cell_type": "code",
   "execution_count": 4,
   "metadata": {},
   "outputs": [
    {
     "name": "stdout",
     "output_type": "stream",
     "text": [
      "Inserted 349 members into members table.\n"
     ]
    }
   ],
   "source": [
    "members = pd.read_csv(filepath)\n",
    "members[\"Start Date\"] = members[\"Start Date\"].apply(parse_parl_datetime)\n",
    "members[\"End Date\"] = members[\"End Date\"].apply(parse_parl_datetime)\n",
    "members[\"Member ID\"] = members.apply(lambda row: f\"{row['First Name']} {row[\"Last Name\"]} ({row[\"Constituency\"]})\", axis=1)\n",
    "\n",
    "with db_connect() as db:\n",
    "    db.execute(f\"DROP TABLE IF EXISTS {MEMBERS_TABLE}\")\n",
    "    db.execute(\n",
    "        f\"CREATE TABLE {MEMBERS_TABLE} (\"\n",
    "        \"[Member ID] TEXT NOT NULL PRIMARY KEY, \"\n",
    "        \"[Honorific Title] TEXT NULL, \"\n",
    "        \"[First Name] TEXT NOT NULL, \"\n",
    "        \"[Last Name] TEXT NOT NULL, \"\n",
    "        \"[Constituency] TEXT NOT NULL, \"\n",
    "        \"[Province / Territory] TEXT NOT NULL, \"\n",
    "        \"[Political Affiliation] TEXT NOT NULL, \"\n",
    "        \"[Start Date] TIMESTAMP NOT NULL, \"\n",
    "        \"[End Date] TIMESTAMP\"\n",
    "    \")\")\n",
    "\n",
    "    members.to_sql(MEMBERS_TABLE, db, if_exists=\"append\", index=False)\n",
    "    print(f\"Inserted {len(members)} members into {MEMBERS_TABLE} table.\")"
   ]
  },
  {
   "cell_type": "code",
   "execution_count": 5,
   "metadata": {},
   "outputs": [],
   "source": [
    "FULL_MEMBER_NAME_REGEX = re.compile(r\"^([^ ]+\\. )?([^\\(]+)(\\([^\\)]+\\))?$\")\n",
    "\n",
    "_full_member_name_cache: dict[str, str | None] = {}\n",
    "def find_member_id(full_member_name: str) -> Optional[str]:\n",
    "    \"\"\"Find a member ID from their full name (e.g. Mr. Justin Trudeau (Papineau)). \n",
    "    Does not check honorifics or constituency names.\n",
    "    Generally really flakey matching but it guarantees at most one result,\n",
    "    so if there's ambiguity it will raise an error.\"\"\"\n",
    "    if full_member_name in _full_member_name_cache:\n",
    "        return _full_member_name_cache[full_member_name]\n",
    "    \n",
    "    match = FULL_MEMBER_NAME_REGEX.match(full_member_name)\n",
    "    if not match:\n",
    "        raise ValueError(f\"Failed to match full member name: {full_member_name}\")\n",
    "    honorific, member_name, constituency = match.groups()\n",
    "    member_name = member_name.strip()\n",
    "    first_name = member_name.split(\" \")[0]\n",
    "    last_name = member_name.split(\" \")[-1]\n",
    "    with db_connect() as db:\n",
    "        cursor = db.cursor()\n",
    "        cursor.execute(\n",
    "            f\"SELECT [Member ID] FROM {MEMBERS_TABLE} \"\n",
    "            \"WHERE [First Name] LIKE ? AND [Last Name] LIKE ?\", \n",
    "            (f\"{first_name}%\", f\"%{last_name}\"))\n",
    "        rows = cursor.fetchall()\n",
    "    if len(rows) > 1:\n",
    "        raise ValueError(f\"Found multiple member IDs for {full_member_name}: {rows}\")\n",
    "    if len(rows) == 0:\n",
    "        result = None\n",
    "    else:\n",
    "        assert len(rows) == 1\n",
    "        result = rows[0][0]\n",
    "    \n",
    "    _full_member_name_cache[full_member_name] = result\n",
    "    return result\n",
    "    \n",
    "assert find_member_id(\"Mr. Justin Trudeau (Papineau)\") is not None\n",
    "assert find_member_id(\"Mr. Harjit S. Sajjan (Vancouver South)\") is not None\n",
    "assert find_member_id(\"Ms. Soraya Martinez Ferrada (Hochelaga)\") is not None\n",
    "assert find_member_id(\"Senator Josée Verner (Louis-Saint-Laurent)\") is None\n",
    "assert find_member_id(\"Gord Johns\") is not None"
   ]
  },
  {
   "cell_type": "markdown",
   "metadata": {},
   "source": [
    "## Bills across all parliaments"
   ]
  },
  {
   "cell_type": "markdown",
   "metadata": {},
   "source": [
    "### Download json files"
   ]
  },
  {
   "cell_type": "code",
   "execution_count": 6,
   "metadata": {},
   "outputs": [],
   "source": [
    "os.makedirs(path.join(DATA_DIR, BILLS_TABLE), exist_ok=True)\n",
    "\n",
    "for session in PARLIMENTARY_SESSIONS:\n",
    "    filename = f\"bills-{session}.json\"\n",
    "    filepath = path.join(DATA_DIR, BILLS_TABLE, filename)\n",
    "    if not path.exists(filepath):\n",
    "        \n",
    "        resp = httpx.get(f\"https://www.parl.ca/legisinfo/en/bills/json?parlsession={session}\")\n",
    "        resp.raise_for_status()\n",
    "        with open(filepath, \"wb\") as f:\n",
    "            f.write(resp.content)\n",
    "        print(f\"Downloaded {filename}\")"
   ]
  },
  {
   "cell_type": "markdown",
   "metadata": {},
   "source": [
    "### Inject into sqlite db"
   ]
  },
  {
   "cell_type": "code",
   "execution_count": 7,
   "metadata": {},
   "outputs": [],
   "source": [
    "with db_connect() as db:\n",
    "    db.execute(f\"DROP TABLE IF EXISTS {BILLS_TABLE}\")\n",
    "    db.execute(\n",
    "        f\"CREATE TABLE {BILLS_TABLE} (\"\n",
    "        \"[Bill ID] TEXT NOT NULL PRIMARY KEY, \"\n",
    "        \"[Parliament] INTEGER NOT NULL, \"\n",
    "        \"[Session] INTEGER NOT NULL, \"\n",
    "        \"[Bill Number] TEXT NOT NULL, \"\n",
    "        \"[Bill Type] TEXT NOT NULL, \"\n",
    "        \"[Private Bill Sponsor Member ID] TEXT NULL,\"\n",
    "        \"[Long Title] TEXT NOT NULL, \"\n",
    "        \"[Short Title] TEXT NULL, \"\n",
    "        \"[Bill External URL] TEXT NOT NULL, \"\n",
    "        \"[First Reading Date] TIMESTAMP NOT NULL, \"\n",
    "        \"[Summary] TEXT NULL, \"\n",
    "        f\"FOREIGN KEY ([Private Bill Sponsor Member ID]) REFERENCES {MEMBERS_TABLE}([Member ID]) \"\n",
    "    \")\")\n",
    "\n",
    "HOUSE_CHAMBER_ID = 1\n",
    "SENATE_CHAMBER_ID = 2\n",
    "\n",
    "for psession in PARLIMENTARY_SESSIONS[:1]:\n",
    "    parliament, session = psession.split(\"-\")\n",
    "    parliament = int(parliament)\n",
    "    session = int(session)\n",
    "    \n",
    "    filename = f\"bills-{psession}.json\"\n",
    "    filepath = path.join(DATA_DIR, BILLS_TABLE, filename)\n",
    "    assert path.exists(filepath), f\"File {filepath} does not exist\"\n",
    "\n",
    "    with open(filepath, \"r\") as f:\n",
    "        bills = json.load(f)\n",
    "\n",
    "    bill_rows = []\n",
    "    for bill in bills:\n",
    "        row = {}\n",
    "\n",
    "        row[\"Parliament\"] = parliament\n",
    "        row[\"Session\"] = session\n",
    "\n",
    "        if bill[\"OriginatingChamberId\"] == HOUSE_CHAMBER_ID:\n",
    "            first_reading_date = bill[\"PassedHouseFirstReadingDateTime\"]\n",
    "        else:\n",
    "            assert bill[\"OriginatingChamberId\"] == SENATE_CHAMBER_ID\n",
    "            first_reading_date = bill[\"PassedSenateFirstReadingDateTime\"]\n",
    "        row[\"First Reading Date\"] = datetime.fromisoformat(first_reading_date) \n",
    "\n",
    "        row[\"Long Title\"] = bill[\"LongTitleEn\"]\n",
    "        short_title = bill[\"ShortTitleEn\"] \n",
    "        if not short_title:\n",
    "            short_title = None\n",
    "        row[\"Short Title\"] = short_title\n",
    "\n",
    "        bill_type = bill[\"BillTypeEn\"]\n",
    "        if bill_type == \"Private Member’s Bill\" and bill[\"OriginatingChamberId\"] == HOUSE_CHAMBER_ID:\n",
    "            sponsor_member_id = find_member_id(bill[\"SponsorEn\"])\n",
    "            if parliament == latest_parliament and sponsor_member_id is None:\n",
    "                raise ValueError(f\"Failed to find member ID for {bill['SponsorEn']}\")\n",
    "        else:\n",
    "            sponsor_member_id = None\n",
    "        row[\"Private Bill Sponsor Member ID\"] = sponsor_member_id\n",
    "        row[\"Bill Type\"] = bill_type\n",
    "\n",
    "        bill_number = bill[\"BillNumberFormatted\"]\n",
    "        bill_id = BillId(\n",
    "            parliament=parliament,\n",
    "            session=session,\n",
    "            bill_number=bill_number,\n",
    "        )\n",
    "        row[\"Bill Number\"] = bill_number\n",
    "        row[\"Bill ID\"] = str(bill_id)\n",
    "\n",
    "        row[\"Bill External URL\"] = f\"https://www.parl.ca/legisinfo/en/bill/{parliament}-{session}/{bill_number.lower()}\"\n",
    "\n",
    "        bill_rows.append(row)\n",
    "\n",
    "    with db_connect() as db:\n",
    "        pd.DataFrame(bill_rows).to_sql(\n",
    "            BILLS_TABLE,\n",
    "            db,\n",
    "            if_exists=\"append\",\n",
    "            index=False,\n",
    "        )\n"
   ]
  },
  {
   "cell_type": "code",
   "execution_count": 8,
   "metadata": {},
   "outputs": [],
   "source": [
    "\n",
    "parliament = 44\n",
    "session = 1\n",
    "\n",
    "\n",
    "    # datetime.fromisoformat(\"2021-11-22T19:00:00-05:00\")"
   ]
  },
  {
   "cell_type": "markdown",
   "metadata": {},
   "source": [
    "## Votes held across all parliamentary sessions"
   ]
  },
  {
   "cell_type": "markdown",
   "metadata": {},
   "source": [
    "### Pull files as csvs"
   ]
  },
  {
   "cell_type": "code",
   "execution_count": 9,
   "metadata": {},
   "outputs": [],
   "source": [
    "os.makedirs(path.join(DATA_DIR, VOTES_HELD_TABLE), exist_ok=True)\n",
    "\n",
    "for session in PARLIMENTARY_SESSIONS:\n",
    "    filename = f\"votes-{session}.csv\"\n",
    "    filepath = path.join(DATA_DIR, VOTES_HELD_TABLE, filename)\n",
    "    if path.exists(filepath):\n",
    "        # print(f\"File {filename} already exists, skipping download.\")\n",
    "        continue\n",
    "    resp = httpx.get(f\"https://www.ourcommons.ca/Members/en/votes/csv?parlSession={session}\")\n",
    "    resp.raise_for_status()\n",
    "    with open(filepath, \"wb\") as f:\n",
    "        f.write(resp.content)\n",
    "    print(f\"Downloaded {filename}\")"
   ]
  },
  {
   "cell_type": "markdown",
   "metadata": {},
   "source": [
    "### Format and insert into the sqlite db"
   ]
  },
  {
   "cell_type": "code",
   "execution_count": 10,
   "metadata": {},
   "outputs": [],
   "source": [
    "with db_connect() as db:\n",
    "    db.execute(f\"DROP TABLE IF EXISTS {VOTES_HELD_TABLE}\")\n",
    "    db.execute(\n",
    "        f\"CREATE TABLE {VOTES_HELD_TABLE} (\"\n",
    "        \"[Vote ID] TEXT NOT NULL PRIMARY KEY, \"\n",
    "        \"[Parliament] INTEGER NOT NULL, \"\n",
    "        \"[Session] INTEGER NOT NULL, \"\n",
    "        \"[Date] TIMESTAMP NOT NULL, \"\n",
    "        \"[Vote Number] INTEGER NOT NULL, \"\n",
    "        \"[Vote Subject] TEXT NOT NULL, \"\n",
    "        \"[Vote Result] TEXT NOT NULL, \"\n",
    "        \"[Yeas] INTEGER, \"\n",
    "        \"[Nays] INTEGER, \"\n",
    "        \"[Paired] INTEGER, \"\n",
    "        \"[Bill Number] TEXT NULL, \"\n",
    "        \"[Bill ID] TEXT NULL, \"\n",
    "        \"[Agreed To] INTEGER NOT NULL, \"\n",
    "         f\"FOREIGN KEY ([Bill ID]) REFERENCES {BILLS_TABLE}([Bill ID]) \"\n",
    "    \")\")\n",
    "    db.execute(\n",
    "        f\"CREATE UNIQUE INDEX idx_session_vote_id ON {VOTES_HELD_TABLE} ([Parliament], [Session], [Vote Number])\"\n",
    "    )\n",
    "\n",
    "    for p_session in PARLIMENTARY_SESSIONS:\n",
    "        parliament, session = p_session.split(\"-\")\n",
    "        filename = f\"votes-{p_session}.csv\"\n",
    "        filepath = path.join(DATA_DIR, VOTES_HELD_TABLE, filename)\n",
    "        assert path.exists(filepath), f\"File {filename} does not exist\"\n",
    "\n",
    "        v = pd.read_csv(filepath)\n",
    "\n",
    "        v[\"Vote Subject\"] = v[\"Vote Subject\"].astype(\"string\")\n",
    "        v[\"Vote Result\"] = v[\"Vote Result\"].astype(\"string\")\n",
    "        v[\"Agreed To\"] = v[\"Vote Result\"].apply(lambda x: True if x == \"Agreed To\" else False)\n",
    "        v[\"Bill Number\"] = v[\"Bill Number\"].astype(\"string\")\n",
    "        v[\"Bill ID\"] = v[\"Bill Number\"].apply(lambda x: f\"{parliament}-{session}-{x}\" if pd.notna(x) else None).astype(\"string\")\n",
    "        v[\"Date\"] = v[\"Date\"].apply(parse_parl_datetime)\n",
    "        v[\"Vote ID\"] = v[\"Parliament\"].astype(\"string\") + \"-\" + v[\"Session\"].astype(\"string\") + \"-\" + v[\"Vote Number\"].astype(\"string\")\n",
    "\n",
    "        for c in v.columns:\n",
    "            assert v[c].dtype != \"object\", f\"Column {c} is still an object type\"\n",
    "\n",
    "        v.to_sql(VOTES_HELD_TABLE, db, if_exists=\"append\", index=False)"
   ]
  },
  {
   "cell_type": "markdown",
   "metadata": {},
   "source": [
    "## Who voted for what"
   ]
  },
  {
   "cell_type": "markdown",
   "metadata": {},
   "source": [
    "### Download member voting data"
   ]
  },
  {
   "cell_type": "code",
   "execution_count": 11,
   "metadata": {},
   "outputs": [
    {
     "name": "stdout",
     "output_type": "stream",
     "text": [
      "Total number of votes held: 3745\n"
     ]
    }
   ],
   "source": [
    "with db_connect() as db:\n",
    "    cursor = db.cursor()\n",
    "    cursor.execute(f\"SELECT Parliament, Session, [Vote Number] FROM {VOTES_HELD_TABLE}\")\n",
    "    rows = cursor.fetchall()\n",
    "    votes_held = [tuple(row) for row in rows]\n",
    "    print(f\"Total number of votes held: {len(votes_held)}\")\n",
    "\n",
    "os.makedirs(path.join(DATA_DIR, MEMBER_VOTES_TABLE), exist_ok=True)\n",
    "\n",
    "for parliament, session, vote_number in votes_held:\n",
    "    url = f\"https://www.ourcommons.ca/Members/en/votes/{parliament}/{session}/{vote_number}/csv\"\n",
    "    filename = f\"member-votes-{parliament}-{session}-{vote_number}.csv\"\n",
    "    filepath = path.join(DATA_DIR, MEMBER_VOTES_TABLE, filename)\n",
    "    if path.exists(filepath):\n",
    "        # print(f\"File {filename} already exists, skipping download.\")\n",
    "        continue\n",
    "    resp = httpx.get(url)\n",
    "    resp.raise_for_status()\n",
    "    with open(filepath, \"wb\") as f:\n",
    "        f.write(resp.content)\n",
    "    print(f\"Downloaded {filename}\")\n"
   ]
  },
  {
   "cell_type": "markdown",
   "metadata": {},
   "source": [
    "### Insert member voting data into the sqlite db"
   ]
  },
  {
   "cell_type": "code",
   "execution_count": 12,
   "metadata": {},
   "outputs": [
    {
     "data": {
      "application/vnd.jupyter.widget-view+json": {
       "model_id": "2d3edaf09ac14680b9570a7037fefa77",
       "version_major": 2,
       "version_minor": 0
      },
      "text/plain": [
       "  0%|          | 0/2030 [00:00<?, ?it/s]"
      ]
     },
     "metadata": {},
     "output_type": "display_data"
    },
    {
     "name": "stdout",
     "output_type": "stream",
     "text": [
      "Skipping 42-1-871 because no members were found\n"
     ]
    }
   ],
   "source": [
    "with db_connect() as db:\n",
    "    db.execute(f\"DROP TABLE IF EXISTS {MEMBER_VOTES_TABLE}\")\n",
    "    db.execute(\n",
    "        f\"CREATE TABLE {MEMBER_VOTES_TABLE} (\"\n",
    "        \"[Vote ID] TEXT NOT NULL, \"\n",
    "        \"[Member ID] TEXT NOT NULL, \"\n",
    "        \"[Member of Parliament] TEXT NOT NULL, \"\n",
    "        \"[Political Affiliation] TEXT NOT NULL, \"\n",
    "        \"[Member Voted] TEXT NULL, \"\n",
    "        \"Paired TEXT NULL, \"\n",
    "        f\"FOREIGN KEY ([Vote ID]) REFERENCES {VOTES_HELD_TABLE}([Vote ID]), \"\n",
    "        f\"FOREIGN KEY ([Member ID]) REFERENCES {MEMBERS_TABLE}([Member ID]), \"\n",
    "        \"PRIMARY KEY ([Vote ID], [Member ID])\"\n",
    "        \")\"\n",
    "    )\n",
    " \n",
    "    db.execute(\n",
    "        f\"CREATE UNIQUE INDEX IF NOT EXISTS idx_member_vote ON {MEMBER_VOTES_TABLE} ([Vote ID], [Member ID])\"\n",
    "    )\n",
    "    db.execute(\n",
    "        f\"CREATE INDEX IF NOT EXISTS idx_member_vote_id ON {MEMBER_VOTES_TABLE} ([Member ID])\"\n",
    "    )\n",
    "    db.execute(\n",
    "        f\"CREATE INDEX IF NOT EXISTS idx_member_vote_vote_id ON {MEMBER_VOTES_TABLE} ([Vote ID])\"\n",
    "    )\n",
    "\n",
    "    bill_vote_ids = [\n",
    "        row[\"Vote ID\"] \n",
    "        for row in db.execute(\n",
    "            f\"SELECT [Vote ID] FROM {VOTES_HELD_TABLE} WHERE [Bill Number] IS NOT NULL\").fetchall()]\n",
    "    member_vote_rows = []\n",
    "    for vote_id in tqdm(bill_vote_ids):\n",
    "        filename = f\"member-votes-{vote_id}.csv\"\n",
    "        filepath = path.join(DATA_DIR, MEMBER_VOTES_TABLE, filename)\n",
    "        assert path.exists(filepath), f\"File {filename} does not exist\"\n",
    "        v = pd.read_csv(filepath)\n",
    "        v[\"Vote ID\"] = vote_id\n",
    "        v[\"Member ID\"] = v[\"Member of Parliament\"].apply(find_member_id)\n",
    "        parliament = vote_id.split(\"-\")[0]\n",
    "        if parliament == latest_parliament and len(v[v[\"Member ID\"].isna()]) > 0:\n",
    "            raise ValueError(f\"Found members of latest Parliament we could not match to an ID: {v[v[\"Member ID\"].isna()]}\")\n",
    "        \n",
    "        # strip out all votes by people not in the members table\n",
    "        # aka people who are not in the latest parliament\n",
    "        v = v[v[\"Member ID\"].notna()]\n",
    "\n",
    "        if len(v) == 0:\n",
    "            print(f\"Skipping {vote_id} because no members were found\")\n",
    "            continue\n",
    "        else:\n",
    "            v.to_sql(\n",
    "                MEMBER_VOTES_TABLE,\n",
    "                db,\n",
    "                if_exists=\"append\",\n",
    "                index=False,\n",
    "            )"
   ]
  }
 ],
 "metadata": {
  "kernelspec": {
   "display_name": "repsheet",
   "language": "python",
   "name": "python3"
  },
  "language_info": {
   "codemirror_mode": {
    "name": "ipython",
    "version": 3
   },
   "file_extension": ".py",
   "mimetype": "text/x-python",
   "name": "python",
   "nbconvert_exporter": "python",
   "pygments_lexer": "ipython3",
   "version": "3.12.9"
  }
 },
 "nbformat": 4,
 "nbformat_minor": 2
}
