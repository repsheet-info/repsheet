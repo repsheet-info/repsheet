{
 "cells": [
  {
   "cell_type": "code",
   "execution_count": null,
   "metadata": {},
   "outputs": [],
   "source": [
    "from repsheet_backend.genai import generate_text, estimate_cost_usd_input_only\n",
    "from repsheet_backend.bills import get_latest_bill_text_path, get_every_bill_voted_on_by_a_member, BillId\n",
    "from repsheet_backend.common import db_connect, BILLS_TABLE\n",
    "from typing import Optional\n",
    "import asyncio\n",
    "import re\n",
    "import json"
   ]
  },
  {
   "cell_type": "code",
   "execution_count": 2,
   "metadata": {},
   "outputs": [],
   "source": [
    "with open(\"prompts/summarize-bill/001.txt\", \"r\") as f:\n",
    "    prompt_template = f.read()\n",
    "\n",
    "def get_bill_summarisation_prompt(bill: BillId) -> Optional[str]:\n",
    "    xml_path = get_latest_bill_text_path(bill)\n",
    "    if xml_path is None:\n",
    "        return None\n",
    "    with open(xml_path, \"r\") as f:\n",
    "        xml_text = f.read()\n",
    "    return prompt_template + xml_text\n",
    "\n",
    "google_ai_api_semaphore = asyncio.Semaphore(16)\n",
    "\n",
    "async def summarise_bill(bill) -> Optional[str]:\n",
    "    prompt = get_bill_summarisation_prompt(bill)\n",
    "    if prompt is None:\n",
    "        return None\n",
    "    async with google_ai_api_semaphore:\n",
    "        return await generate_text(prompt)\n",
    "\n",
    "async def estimate_summarise_bill_cost(bill) -> float:\n",
    "    prompt = get_bill_summarisation_prompt(bill)\n",
    "    if prompt is None:\n",
    "        return 0.0\n",
    "    async with google_ai_api_semaphore:\n",
    "        return await estimate_cost_usd_input_only(prompt)"
   ]
  },
  {
   "cell_type": "code",
   "execution_count": 3,
   "metadata": {},
   "outputs": [],
   "source": [
    "# costs = await asyncio.gather(\n",
    "#     *[estimate_summarise_bill_cost(bill) for bill in get_every_bill_voted_on_by_a_member()]\n",
    "# )\n",
    "\n",
    "# sum(cost for cost in costs if cost is not None)"
   ]
  },
  {
   "cell_type": "code",
   "execution_count": null,
   "metadata": {},
   "outputs": [],
   "source": [
    "bills = get_every_bill_voted_on_by_a_member()\n",
    "\n",
    "summaries = await asyncio.gather(\n",
    "    *[summarise_bill(bill) for bill in bills]\n",
    ")"
   ]
  },
  {
   "cell_type": "code",
   "execution_count": 8,
   "metadata": {},
   "outputs": [],
   "source": [
    "trailing_comma_regex = re.compile(r\",\\s*}\")\n",
    "\n",
    "def cleanup_and_validate_json(json_text: str) -> str:\n",
    "    # Remove trailing commas before closing braces\n",
    "    json_text = trailing_comma_regex.sub(\"}\", json_text)\n",
    "    json_obj = json.loads(json_text)\n",
    "    json_text = json.dumps(json_obj)\n",
    "    return json_text\n",
    "\n",
    "bill_summaries: list[tuple[str, str]] = []\n",
    "\n",
    "for bill, summary in zip(bills, summaries):\n",
    "    if summary is None:\n",
    "        continue\n",
    "    summary = summary.removeprefix(\"```json\\n\").removesuffix(\"\\n```\")\n",
    "    summary = cleanup_and_validate_json(summary)\n",
    "    bill_summaries.append((str(bill), summary))"
   ]
  },
  {
   "cell_type": "code",
   "execution_count": 9,
   "metadata": {},
   "outputs": [],
   "source": [
    "with db_connect() as db:\n",
    "    # Clear the table before inserting new summaries\n",
    "    db.execute(f\"DELETE FROM {BILLS_TABLE}\")\n",
    "\n",
    "    # Insert the new summaries\n",
    "    db.executemany(f\"INSERT INTO {BILLS_TABLE} ([Bill ID], Summary) VALUES (?, ?)\", bill_summaries)\n"
   ]
  }
 ],
 "metadata": {
  "kernelspec": {
   "display_name": "repsheet",
   "language": "python",
   "name": "python3"
  },
  "language_info": {
   "codemirror_mode": {
    "name": "ipython",
    "version": 3
   },
   "file_extension": ".py",
   "mimetype": "text/x-python",
   "name": "python",
   "nbconvert_exporter": "python",
   "pygments_lexer": "ipython3",
   "version": "3.13.2"
  }
 },
 "nbformat": 4,
 "nbformat_minor": 2
}
