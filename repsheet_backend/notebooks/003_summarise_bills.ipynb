{
 "cells": [
  {
   "cell_type": "code",
   "execution_count": null,
   "metadata": {},
   "outputs": [],
   "source": [
    "from repsheet_backend.genai import generate_text, estimate_cost_usd_input_only\n",
    "from repsheet_backend.summarize_bills import get_latest_bill_text_path, get_every_bill_voted_on_by_a_member, BillId, BillSummary\n",
    "from repsheet_backend.common import db_connect, BILLS_TABLE\n",
    "from typing import Optional\n",
    "import asyncio\n",
    "import re\n",
    "import json\n",
    "from pydantic import BaseModel"
   ]
  },
  {
   "cell_type": "markdown",
   "metadata": {},
   "source": [
    "### Spec for the summary the AI is supposed to be generating"
   ]
  },
  {
   "cell_type": "code",
   "execution_count": 2,
   "metadata": {},
   "outputs": [],
   "source": [
    "with open(\"prompts/summarize-bill/001.txt\", \"r\") as f:\n",
    "    prompt_template = f.read()\n",
    "\n",
    "xref_external_regex = re.compile(r\"<XRefExternal[^>]*>(.*?)<\\/XRefExternal>\")\n",
    "\n",
    "def simplify_bill_xml(xml_text: str) -> str:\n",
    "    # The ichor permeates MY FACE MY FACE\n",
    "    # Remove all the XRefExternal tags\n",
    "    return xref_external_regex.sub(r\"\\1\", xml_text)\n",
    "\n",
    "def get_bill_summarisation_prompt(bill: BillId) -> Optional[str]:\n",
    "    xml_path = get_latest_bill_text_path(bill)\n",
    "    if xml_path is None:\n",
    "        return None\n",
    "    with open(xml_path, \"r\") as f:\n",
    "        xml_text = f.read()\n",
    "    xml_text = simplify_bill_xml(xml_text)\n",
    "    return prompt_template.replace(\"{{BILL_XML}}\", xml_text)\n",
    "\n",
    "async def summarise_bill(bill) -> Optional[str]:\n",
    "    prompt = get_bill_summarisation_prompt(bill)\n",
    "    if prompt is None:\n",
    "        return None\n",
    "    return await generate_text(prompt)\n",
    "\n",
    "async def estimate_summarise_bill_cost(bill) -> float:\n",
    "    prompt = get_bill_summarisation_prompt(bill)\n",
    "    if prompt is None:\n",
    "        return 0.0\n",
    "    return await estimate_cost_usd_input_only(prompt)"
   ]
  },
  {
   "cell_type": "code",
   "execution_count": 3,
   "metadata": {},
   "outputs": [],
   "source": [
    "# costs = await asyncio.gather(\n",
    "#     *[estimate_summarise_bill_cost(bill) for bill in get_every_bill_voted_on_by_a_member()]\n",
    "# )\n",
    "\n",
    "# sum(cost for cost in costs if cost is not None)"
   ]
  },
  {
   "cell_type": "code",
   "execution_count": 4,
   "metadata": {},
   "outputs": [
    {
     "name": "stdout",
     "output_type": "stream",
     "text": [
      "Generating text with gemini-2.0-flash (9892643 chars)\n"
     ]
    }
   ],
   "source": [
    "bills = get_every_bill_voted_on_by_a_member()\n",
    "\n",
    "summaries = await asyncio.gather(\n",
    "    *[summarise_bill(bill) for bill in bills]\n",
    ")"
   ]
  },
  {
   "cell_type": "code",
   "execution_count": null,
   "metadata": {},
   "outputs": [
    {
     "name": "stdout",
     "output_type": "stream",
     "text": [
      "Bill 41-1-C-13 failed to summarise, too thicc\n"
     ]
    }
   ],
   "source": [
    "\n",
    "def cleanup_and_validate_json(json_text: str) -> str:\n",
    "    orig_text = json_text\n",
    "    # Remove trailing commas before closing braces\n",
    "    json_text = trailing_comma_regex.sub(\"}\", json_text)\n",
    "    # Add any missing commas\n",
    "    json_text = missing_comma_regex.sub('\", \"', json_text)\n",
    "    # Never seen this as an escape character before, but the AI seems to think it's real\n",
    "    json_text = json_text.replace(\"\\\\$\", \"$\").replace(\"\\\\$\", \"$\")\n",
    "    try:\n",
    "        obj = BillSummary.model_validate_json(json_text)\n",
    "    except Exception as e:\n",
    "        print(json_text)\n",
    "        raise e\n",
    "    return obj.model_dump_json()\n",
    "\n",
    "bill_summaries = []\n",
    "\n",
    "for bill, summary in zip(bills, summaries):\n",
    "    if summary is None:\n",
    "        print(f\"Bill {bill} failed to summarise, too thicc\")\n",
    "        continue\n",
    "    summary = summary.removeprefix(\"```json\\n\").removesuffix(\"\\n```\")\n",
    "    summary = cleanup_and_validate_json(summary)\n",
    "    bill_summaries.append({\n",
    "        \"bill_id\": str(bill),\n",
    "        \"summary\": summary\n",
    "    })"
   ]
  },
  {
   "cell_type": "code",
   "execution_count": 6,
   "metadata": {},
   "outputs": [],
   "source": [
    "with db_connect() as db:\n",
    "    # Insert the new summaries\n",
    "    db.executemany(f\"UPDATE {BILLS_TABLE} SET Summary = :summary WHERE [Bill ID] = :bill_id\", bill_summaries)\n"
   ]
  }
 ],
 "metadata": {
  "kernelspec": {
   "display_name": "repsheet",
   "language": "python",
   "name": "python3"
  },
  "language_info": {
   "codemirror_mode": {
    "name": "ipython",
    "version": 3
   },
   "file_extension": ".py",
   "mimetype": "text/x-python",
   "name": "python",
   "nbconvert_exporter": "python",
   "pygments_lexer": "ipython3",
   "version": "3.13.2"
  }
 },
 "nbformat": 4,
 "nbformat_minor": 2
}
