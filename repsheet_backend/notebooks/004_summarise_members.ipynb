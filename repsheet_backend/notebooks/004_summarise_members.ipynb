{
 "cells": [
  {
   "cell_type": "code",
   "execution_count": 4,
   "metadata": {},
   "outputs": [],
   "source": [
    "from typing import Optional, Literal\n",
    "from repsheet_backend.common import MEMBER_VOTES_TABLE, BILLS_TABLE, VOTES_HELD_TABLE, MEMBERS_TABLE, db_connect, JUSTIN, PIERRE\n",
    "from repsheet_backend.bills import BillId, BillIssues, BillSummary\n",
    "from repsheet_backend.genai import generate_text\n",
    "from pydantic import BaseModel\n",
    "import json\n",
    "import asyncio\n",
    "import re"
   ]
  },
  {
   "cell_type": "code",
   "execution_count": null,
   "metadata": {},
   "outputs": [],
   "source": [
    "with open(\"prompts/summarize-member/001.txt\", \"r\") as f:\n",
    "    prompt_template = f.read()\n",
    "\n",
    "class BillVotingRecord(BaseModel):\n",
    "    summary: str\n",
    "    billID: str\n",
    "    billNumber: str\n",
    "    voted: Literal[\"yea\", \"nay\", \"abstain\"]\n",
    "    issues: BillIssues\n",
    "\n",
    "\n",
    "class MemberSummary(BaseModel):\n",
    "    summary: str\n",
    "    issues: BillIssues\n",
    "\n",
    "\n",
    "MEMBER_BILL_VOTING_QUERY = f\"\"\"\n",
    "SELECT \n",
    "    b.[Bill ID] AS bill_id,\n",
    "    b.[Bill Number] AS bill_number,\n",
    "    b.[Summary] AS full_summary,\n",
    "    mv.[Member Voted] AS voted\n",
    "FROM {MEMBER_VOTES_TABLE} AS mv\n",
    "JOIN {VOTES_HELD_TABLE} v\n",
    "    ON mv.[Vote ID] = v.[Vote ID]\n",
    "JOIN {BILLS_TABLE} AS b\n",
    "    ON v.[Bill ID] = b.[Bill ID]\n",
    "WHERE\n",
    "    mv.[Member ID] = :member_id\n",
    "\"\"\"\n",
    "\n",
    "def get_member_voting_record(member_id: str) -> list[BillVotingRecord]:\n",
    "    with db_connect() as db:\n",
    "        rows = db.execute(MEMBER_BILL_VOTING_QUERY, {\"member_id\": member_id}).fetchall()\n",
    "\n",
    "    voting_record: list[BillVotingRecord] = []\n",
    "    for row in rows:\n",
    "        full_summary = BillSummary.model_validate_json(row[\"full_summary\"])\n",
    "        voted = row[\"voted\"].lower() if row[\"voted\"] else \"abstain\" \n",
    "        voting_record.append(\n",
    "            BillVotingRecord(\n",
    "                summary=full_summary.summary,\n",
    "                billID=row[\"bill_id\"],\n",
    "                billNumber=row[\"bill_number\"],\n",
    "                voted=voted,\n",
    "                issues=full_summary.issues,\n",
    "            )\n",
    "        )\n",
    "    return voting_record\n",
    "\n",
    "\n",
    "def get_member_summarisation_prompt(member_id: str) -> str:\n",
    "    voting_record = get_member_voting_record(member_id)\n",
    "    voting_record = [vote.model_dump(mode=\"json\") for vote in voting_record]\n",
    "    voting_record = json.dumps(voting_record, indent=2)\n",
    "    return prompt_template.replace(\"{{RAW_INPUT_DATA}}\", voting_record)\n",
    "\n",
    "value_meant_to_be_part_of_previous_key_regex = re.compile(r'\",\\s*\"([^\"]+)\"\\s*}')\n",
    "\n",
    "def fix_crappy_json(json_str: str) -> str:\n",
    "    json_str = value_meant_to_be_part_of_previous_key_regex.sub(r' \\1\"}', json_str)\n",
    "    json_str = json_str.replace(\"\\\\\\n\", \"\\\\n\")\n",
    "    return json_str\n",
    "\n",
    "\n",
    "async def generate_member_summary(member_id: str) -> MemberSummary:\n",
    "    prompt = get_member_summarisation_prompt(member_id)\n",
    "    summary = await generate_text(prompt)\n",
    "    assert summary is not None\n",
    "    summary = summary.removeprefix(\"```json\\n\").removesuffix(\"\\n```\")\n",
    "    summary = fix_crappy_json(summary)\n",
    "    try:    \n",
    "        summary = MemberSummary.model_validate_json(summary)\n",
    "    except Exception as e:\n",
    "        with open(f\"{member_id}.json\", \"w\") as f:\n",
    "            f.write(summary)\n",
    "        raise e\n",
    "    return summary"
   ]
  },
  {
   "cell_type": "code",
   "execution_count": 12,
   "metadata": {},
   "outputs": [
    {
     "ename": "ValidationError",
     "evalue": "1 validation error for MemberSummary\n  Invalid JSON: expected `,` or `}` at line 2 column 965 [type=json_invalid, input_value='{\\n  \"summary\": \"This Me...he vulnerable.\"\\n  }\\n}', input_type=str]\n    For further information visit https://errors.pydantic.dev/2.11/v/json_invalid",
     "output_type": "error",
     "traceback": [
      "\u001b[31m---------------------------------------------------------------------------\u001b[39m",
      "\u001b[31mValidationError\u001b[39m                           Traceback (most recent call last)",
      "\u001b[36mCell\u001b[39m\u001b[36m \u001b[39m\u001b[32mIn[12]\u001b[39m\u001b[32m, line 4\u001b[39m\n\u001b[32m      1\u001b[39m \u001b[38;5;28;01mwith\u001b[39;00m db_connect() \u001b[38;5;28;01mas\u001b[39;00m db:\n\u001b[32m      2\u001b[39m     all_member_ids = [row[\u001b[32m0\u001b[39m] \u001b[38;5;28;01mfor\u001b[39;00m row \u001b[38;5;129;01min\u001b[39;00m db.execute(\u001b[33mf\u001b[39m\u001b[33m\"\u001b[39m\u001b[33mSELECT DISTINCT [Member ID] FROM \u001b[39m\u001b[38;5;132;01m{\u001b[39;00mMEMBERS_TABLE\u001b[38;5;132;01m}\u001b[39;00m\u001b[33m\"\u001b[39m).fetchall()]\n\u001b[32m----> \u001b[39m\u001b[32m4\u001b[39m summaries = \u001b[38;5;28;01mawait\u001b[39;00m asyncio.gather(*[\n\u001b[32m      5\u001b[39m     generate_member_summary(member_id)\n\u001b[32m      6\u001b[39m     \u001b[38;5;28;01mfor\u001b[39;00m member_id \u001b[38;5;129;01min\u001b[39;00m all_member_ids\n\u001b[32m      7\u001b[39m ])\n\u001b[32m      9\u001b[39m member_summaries = [\n\u001b[32m     10\u001b[39m     {\u001b[33m\"\u001b[39m\u001b[33mmember_id\u001b[39m\u001b[33m\"\u001b[39m: member_id, \u001b[33m\"\u001b[39m\u001b[33msummary\u001b[39m\u001b[33m\"\u001b[39m: summary.model_dump_json()}\n\u001b[32m     11\u001b[39m     \u001b[38;5;28;01mfor\u001b[39;00m member_id, summary \u001b[38;5;129;01min\u001b[39;00m \u001b[38;5;28mzip\u001b[39m(all_member_ids, summaries)\n\u001b[32m     12\u001b[39m ]\n",
      "\u001b[36mCell\u001b[39m\u001b[36m \u001b[39m\u001b[32mIn[11]\u001b[39m\u001b[32m, line 77\u001b[39m, in \u001b[36mgenerate_member_summary\u001b[39m\u001b[34m(member_id)\u001b[39m\n\u001b[32m     75\u001b[39m     \u001b[38;5;28;01mwith\u001b[39;00m \u001b[38;5;28mopen\u001b[39m(\u001b[33mf\u001b[39m\u001b[33m\"\u001b[39m\u001b[38;5;132;01m{\u001b[39;00mmember_id\u001b[38;5;132;01m}\u001b[39;00m\u001b[33m.json\u001b[39m\u001b[33m\"\u001b[39m, \u001b[33m\"\u001b[39m\u001b[33mw\u001b[39m\u001b[33m\"\u001b[39m) \u001b[38;5;28;01mas\u001b[39;00m f:\n\u001b[32m     76\u001b[39m         f.write(summary)\n\u001b[32m---> \u001b[39m\u001b[32m77\u001b[39m     \u001b[38;5;28;01mraise\u001b[39;00m e\n\u001b[32m     78\u001b[39m \u001b[38;5;28;01mreturn\u001b[39;00m summary\n",
      "\u001b[36mCell\u001b[39m\u001b[36m \u001b[39m\u001b[32mIn[11]\u001b[39m\u001b[32m, line 73\u001b[39m, in \u001b[36mgenerate_member_summary\u001b[39m\u001b[34m(member_id)\u001b[39m\n\u001b[32m     71\u001b[39m summary = fix_crappy_json(summary)\n\u001b[32m     72\u001b[39m \u001b[38;5;28;01mtry\u001b[39;00m:    \n\u001b[32m---> \u001b[39m\u001b[32m73\u001b[39m     summary = \u001b[43mMemberSummary\u001b[49m\u001b[43m.\u001b[49m\u001b[43mmodel_validate_json\u001b[49m\u001b[43m(\u001b[49m\u001b[43msummary\u001b[49m\u001b[43m)\u001b[49m\n\u001b[32m     74\u001b[39m \u001b[38;5;28;01mexcept\u001b[39;00m \u001b[38;5;167;01mException\u001b[39;00m \u001b[38;5;28;01mas\u001b[39;00m e:\n\u001b[32m     75\u001b[39m     \u001b[38;5;28;01mwith\u001b[39;00m \u001b[38;5;28mopen\u001b[39m(\u001b[33mf\u001b[39m\u001b[33m\"\u001b[39m\u001b[38;5;132;01m{\u001b[39;00mmember_id\u001b[38;5;132;01m}\u001b[39;00m\u001b[33m.json\u001b[39m\u001b[33m\"\u001b[39m, \u001b[33m\"\u001b[39m\u001b[33mw\u001b[39m\u001b[33m\"\u001b[39m) \u001b[38;5;28;01mas\u001b[39;00m f:\n",
      "\u001b[36mFile \u001b[39m\u001b[32m~/miniconda3/envs/repsheet/lib/python3.13/site-packages/pydantic/main.py:744\u001b[39m, in \u001b[36mBaseModel.model_validate_json\u001b[39m\u001b[34m(cls, json_data, strict, context, by_alias, by_name)\u001b[39m\n\u001b[32m    738\u001b[39m \u001b[38;5;28;01mif\u001b[39;00m by_alias \u001b[38;5;129;01mis\u001b[39;00m \u001b[38;5;28;01mFalse\u001b[39;00m \u001b[38;5;129;01mand\u001b[39;00m by_name \u001b[38;5;129;01mis\u001b[39;00m \u001b[38;5;129;01mnot\u001b[39;00m \u001b[38;5;28;01mTrue\u001b[39;00m:\n\u001b[32m    739\u001b[39m     \u001b[38;5;28;01mraise\u001b[39;00m PydanticUserError(\n\u001b[32m    740\u001b[39m         \u001b[33m'\u001b[39m\u001b[33mAt least one of `by_alias` or `by_name` must be set to True.\u001b[39m\u001b[33m'\u001b[39m,\n\u001b[32m    741\u001b[39m         code=\u001b[33m'\u001b[39m\u001b[33mvalidate-by-alias-and-name-false\u001b[39m\u001b[33m'\u001b[39m,\n\u001b[32m    742\u001b[39m     )\n\u001b[32m--> \u001b[39m\u001b[32m744\u001b[39m \u001b[38;5;28;01mreturn\u001b[39;00m \u001b[38;5;28;43mcls\u001b[39;49m\u001b[43m.\u001b[49m\u001b[43m__pydantic_validator__\u001b[49m\u001b[43m.\u001b[49m\u001b[43mvalidate_json\u001b[49m\u001b[43m(\u001b[49m\n\u001b[32m    745\u001b[39m \u001b[43m    \u001b[49m\u001b[43mjson_data\u001b[49m\u001b[43m,\u001b[49m\u001b[43m \u001b[49m\u001b[43mstrict\u001b[49m\u001b[43m=\u001b[49m\u001b[43mstrict\u001b[49m\u001b[43m,\u001b[49m\u001b[43m \u001b[49m\u001b[43mcontext\u001b[49m\u001b[43m=\u001b[49m\u001b[43mcontext\u001b[49m\u001b[43m,\u001b[49m\u001b[43m \u001b[49m\u001b[43mby_alias\u001b[49m\u001b[43m=\u001b[49m\u001b[43mby_alias\u001b[49m\u001b[43m,\u001b[49m\u001b[43m \u001b[49m\u001b[43mby_name\u001b[49m\u001b[43m=\u001b[49m\u001b[43mby_name\u001b[49m\n\u001b[32m    746\u001b[39m \u001b[43m\u001b[49m\u001b[43m)\u001b[49m\n",
      "\u001b[31mValidationError\u001b[39m: 1 validation error for MemberSummary\n  Invalid JSON: expected `,` or `}` at line 2 column 965 [type=json_invalid, input_value='{\\n  \"summary\": \"This Me...he vulnerable.\"\\n  }\\n}', input_type=str]\n    For further information visit https://errors.pydantic.dev/2.11/v/json_invalid"
     ]
    }
   ],
   "source": [
    "with db_connect() as db:\n",
    "    all_member_ids = [row[0] for row in db.execute(f\"SELECT DISTINCT [Member ID] FROM {MEMBERS_TABLE}\").fetchall()]\n",
    "\n",
    "summaries = await asyncio.gather(*[\n",
    "    generate_member_summary(member_id)\n",
    "    for member_id in all_member_ids\n",
    "])\n",
    "\n",
    "member_summaries = [\n",
    "    {\"member_id\": member_id, \"summary\": summary.model_dump_json()}\n",
    "    for member_id, summary in zip(all_member_ids, summaries)\n",
    "]"
   ]
  },
  {
   "cell_type": "code",
   "execution_count": null,
   "metadata": {},
   "outputs": [],
   "source": [
    "\n",
    "\n",
    "with db_connect() as db:\n",
    "    # Insert the new summaries\n",
    "    db.executemany(f\"UPDATE {MEMBERS_TABLE} SET Summary = :summary WHERE [Member ID] = :member_id\", member_summaries)\n"
   ]
  }
 ],
 "metadata": {
  "kernelspec": {
   "display_name": "repsheet",
   "language": "python",
   "name": "python3"
  },
  "language_info": {
   "codemirror_mode": {
    "name": "ipython",
    "version": 3
   },
   "file_extension": ".py",
   "mimetype": "text/x-python",
   "name": "python",
   "nbconvert_exporter": "python",
   "pygments_lexer": "ipython3",
   "version": "3.13.2"
  }
 },
 "nbformat": 4,
 "nbformat_minor": 2
}
